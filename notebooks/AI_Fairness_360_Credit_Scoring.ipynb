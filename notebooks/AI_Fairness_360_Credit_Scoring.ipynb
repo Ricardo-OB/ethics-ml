{
  "nbformat": 4,
  "nbformat_minor": 0,
  "metadata": {
    "colab": {
      "provenance": []
    },
    "kernelspec": {
      "name": "python3",
      "display_name": "Python 3"
    },
    "language_info": {
      "name": "python"
    }
  },
  "cells": [
    {
      "cell_type": "markdown",
      "source": [
        "### AI Fairness 360 en Colab\n",
        "\n",
        "Este notebook brinda un ejemplo básico sobre la herramienta AI Fairness 360 (AIF360) de IBM. Especificamente, se usará una métrica de equidad (mean difference) y un algoritmo de mitigación de sesgo (optimized preprocessing) en el contexto del sesgo de edad. \n",
        "\n",
        "El dataset utilizado es [Credit Scoring](https://archive.ics.uci.edu/ml/datasets/Statlog+%28German+Credit+Data%29) (Calificación Crediticia) de German Credit.\n",
        "\n",
        "* *Para más información sobre este notebook visite este [link](https://nbviewer.org/github/Trusted-AI/AIF360/blob/master/examples/tutorial_credit_scoring.ipynb).*\n",
        "\n",
        "* *Para más información sobre la herramienta visite este [link](https://aif360.mybluemix.net/)*"
      ],
      "metadata": {
        "id": "Ta2a4XLJZ0fY"
      }
    },
    {
      "cell_type": "markdown",
      "source": [
        "#### Librerias"
      ],
      "metadata": {
        "id": "0i2O5mVCe6bS"
      }
    },
    {
      "cell_type": "code",
      "source": [
        "%pip install -q wget"
      ],
      "metadata": {
        "colab": {
          "base_uri": "https://localhost:8080/"
        },
        "id": "srRjnsOly2Z-",
        "outputId": "0238ba35-dc27-473e-9325-63e9b3ae6d26"
      },
      "execution_count": null,
      "outputs": [
        {
          "output_type": "stream",
          "name": "stdout",
          "text": [
            "  Preparing metadata (setup.py) ... \u001b[?25l\u001b[?25hdone\n",
            "  Building wheel for wget (setup.py) ... \u001b[?25l\u001b[?25hdone\n"
          ]
        }
      ]
    },
    {
      "cell_type": "code",
      "execution_count": null,
      "metadata": {
        "colab": {
          "base_uri": "https://localhost:8080/"
        },
        "id": "a0Dl1oBDPLgK",
        "outputId": "bdc8e2f0-8a22-4dce-be85-5dc9d20d4335"
      },
      "outputs": [
        {
          "output_type": "stream",
          "name": "stdout",
          "text": [
            "Looking in indexes: https://pypi.org/simple, https://us-python.pkg.dev/colab-wheels/public/simple/\n",
            "Requirement already satisfied: aif360[all] in /usr/local/lib/python3.9/dist-packages (0.5.0)\n",
            "Requirement already satisfied: pandas>=0.24.0 in /usr/local/lib/python3.9/dist-packages (from aif360[all]) (1.4.4)\n",
            "Requirement already satisfied: scipy>=1.2.0 in /usr/local/lib/python3.9/dist-packages (from aif360[all]) (1.10.1)\n",
            "Requirement already satisfied: numpy>=1.16 in /usr/local/lib/python3.9/dist-packages (from aif360[all]) (1.22.4)\n",
            "Requirement already satisfied: scikit-learn>=1.0 in /usr/local/lib/python3.9/dist-packages (from aif360[all]) (1.1.3)\n",
            "Requirement already satisfied: matplotlib in /usr/local/lib/python3.9/dist-packages (from aif360[all]) (3.7.1)\n",
            "Requirement already satisfied: jupyter in /usr/local/lib/python3.9/dist-packages (from aif360[all]) (1.0.0)\n",
            "Requirement already satisfied: fairlearn~=0.7 in /usr/local/lib/python3.9/dist-packages (from aif360[all]) (0.8.0)\n",
            "Requirement already satisfied: cvxpy>=1.0 in /usr/local/lib/python3.9/dist-packages (from aif360[all]) (1.3.1)\n",
            "Requirement already satisfied: lime in /usr/local/lib/python3.9/dist-packages (from aif360[all]) (0.2.0.1)\n",
            "Requirement already satisfied: jinja2<3.1.0 in /usr/local/lib/python3.9/dist-packages (from aif360[all]) (3.0.3)\n",
            "Requirement already satisfied: tempeh in /usr/local/lib/python3.9/dist-packages (from aif360[all]) (0.1.12)\n",
            "Requirement already satisfied: pytest>=3.5 in /usr/local/lib/python3.9/dist-packages (from aif360[all]) (7.2.2)\n",
            "Requirement already satisfied: igraph[plotting] in /usr/local/lib/python3.9/dist-packages (from aif360[all]) (0.10.4)\n",
            "Requirement already satisfied: sphinx<2 in /usr/local/lib/python3.9/dist-packages (from aif360[all]) (1.8.6)\n",
            "Requirement already satisfied: torch in /usr/local/lib/python3.9/dist-packages (from aif360[all]) (1.13.1+cu116)\n",
            "Requirement already satisfied: sphinx-rtd-theme in /usr/local/lib/python3.9/dist-packages (from aif360[all]) (1.2.0)\n",
            "Requirement already satisfied: seaborn in /usr/local/lib/python3.9/dist-packages (from aif360[all]) (0.12.2)\n",
            "Requirement already satisfied: tqdm in /usr/local/lib/python3.9/dist-packages (from aif360[all]) (4.65.0)\n",
            "Requirement already satisfied: adversarial-robustness-toolbox>=1.0.0 in /usr/local/lib/python3.9/dist-packages (from aif360[all]) (1.14.0)\n",
            "Requirement already satisfied: ipympl in /usr/local/lib/python3.9/dist-packages (from aif360[all]) (0.9.3)\n",
            "Requirement already satisfied: BlackBoxAuditing in /usr/local/lib/python3.9/dist-packages (from aif360[all]) (0.1.54)\n",
            "Requirement already satisfied: tensorflow>=1.13.1 in /usr/local/lib/python3.9/dist-packages (from aif360[all]) (2.11.0)\n",
            "Requirement already satisfied: lightgbm in /usr/local/lib/python3.9/dist-packages (from aif360[all]) (3.3.5)\n",
            "Requirement already satisfied: rpy2 in /usr/local/lib/python3.9/dist-packages (from aif360[all]) (3.5.5)\n",
            "Requirement already satisfied: six in /usr/local/lib/python3.9/dist-packages (from adversarial-robustness-toolbox>=1.0.0->aif360[all]) (1.16.0)\n",
            "Requirement already satisfied: setuptools in /usr/local/lib/python3.9/dist-packages (from adversarial-robustness-toolbox>=1.0.0->aif360[all]) (67.6.0)\n",
            "Requirement already satisfied: ecos>=2 in /usr/local/lib/python3.9/dist-packages (from cvxpy>=1.0->aif360[all]) (2.0.12)\n",
            "Requirement already satisfied: osqp>=0.4.1 in /usr/local/lib/python3.9/dist-packages (from cvxpy>=1.0->aif360[all]) (0.6.2.post0)\n",
            "Requirement already satisfied: scs>=1.1.6 in /usr/local/lib/python3.9/dist-packages (from cvxpy>=1.0->aif360[all]) (3.2.2)\n",
            "Requirement already satisfied: MarkupSafe>=2.0 in /usr/local/lib/python3.9/dist-packages (from jinja2<3.1.0->aif360[all]) (2.1.2)\n",
            "Requirement already satisfied: pytz>=2020.1 in /usr/local/lib/python3.9/dist-packages (from pandas>=0.24.0->aif360[all]) (2022.7.1)\n",
            "Requirement already satisfied: python-dateutil>=2.8.1 in /usr/local/lib/python3.9/dist-packages (from pandas>=0.24.0->aif360[all]) (2.8.2)\n",
            "Requirement already satisfied: iniconfig in /usr/local/lib/python3.9/dist-packages (from pytest>=3.5->aif360[all]) (2.0.0)\n",
            "Requirement already satisfied: packaging in /usr/local/lib/python3.9/dist-packages (from pytest>=3.5->aif360[all]) (23.0)\n",
            "Requirement already satisfied: pluggy<2.0,>=0.12 in /usr/local/lib/python3.9/dist-packages (from pytest>=3.5->aif360[all]) (1.0.0)\n",
            "Requirement already satisfied: attrs>=19.2.0 in /usr/local/lib/python3.9/dist-packages (from pytest>=3.5->aif360[all]) (22.2.0)\n",
            "Requirement already satisfied: exceptiongroup>=1.0.0rc8 in /usr/local/lib/python3.9/dist-packages (from pytest>=3.5->aif360[all]) (1.1.1)\n",
            "Requirement already satisfied: tomli>=1.0.0 in /usr/local/lib/python3.9/dist-packages (from pytest>=3.5->aif360[all]) (2.0.1)\n",
            "Requirement already satisfied: threadpoolctl>=2.0.0 in /usr/local/lib/python3.9/dist-packages (from scikit-learn>=1.0->aif360[all]) (3.1.0)\n",
            "Requirement already satisfied: joblib>=1.0.0 in /usr/local/lib/python3.9/dist-packages (from scikit-learn>=1.0->aif360[all]) (1.1.1)\n",
            "Requirement already satisfied: docutils<0.18,>=0.11 in /usr/local/lib/python3.9/dist-packages (from sphinx<2->aif360[all]) (0.16)\n",
            "Requirement already satisfied: sphinxcontrib-websupport in /usr/local/lib/python3.9/dist-packages (from sphinx<2->aif360[all]) (1.2.4)\n",
            "Requirement already satisfied: Pygments>=2.0 in /usr/local/lib/python3.9/dist-packages (from sphinx<2->aif360[all]) (2.14.0)\n",
            "Requirement already satisfied: babel!=2.0,>=1.3 in /usr/local/lib/python3.9/dist-packages (from sphinx<2->aif360[all]) (2.12.1)\n",
            "Requirement already satisfied: imagesize in /usr/local/lib/python3.9/dist-packages (from sphinx<2->aif360[all]) (1.4.1)\n",
            "Requirement already satisfied: requests>=2.0.0 in /usr/local/lib/python3.9/dist-packages (from sphinx<2->aif360[all]) (2.27.1)\n",
            "Requirement already satisfied: alabaster<0.8,>=0.7 in /usr/local/lib/python3.9/dist-packages (from sphinx<2->aif360[all]) (0.7.13)\n",
            "Requirement already satisfied: snowballstemmer>=1.1 in /usr/local/lib/python3.9/dist-packages (from sphinx<2->aif360[all]) (2.2.0)\n",
            "Requirement already satisfied: tensorflow-io-gcs-filesystem>=0.23.1 in /usr/local/lib/python3.9/dist-packages (from tensorflow>=1.13.1->aif360[all]) (0.31.0)\n",
            "Requirement already satisfied: google-pasta>=0.1.1 in /usr/local/lib/python3.9/dist-packages (from tensorflow>=1.13.1->aif360[all]) (0.2.0)\n",
            "Requirement already satisfied: tensorflow-estimator<2.12,>=2.11.0 in /usr/local/lib/python3.9/dist-packages (from tensorflow>=1.13.1->aif360[all]) (2.11.0)\n",
            "Requirement already satisfied: keras<2.12,>=2.11.0 in /usr/local/lib/python3.9/dist-packages (from tensorflow>=1.13.1->aif360[all]) (2.11.0)\n",
            "Requirement already satisfied: wrapt>=1.11.0 in /usr/local/lib/python3.9/dist-packages (from tensorflow>=1.13.1->aif360[all]) (1.15.0)\n",
            "Requirement already satisfied: tensorboard<2.12,>=2.11 in /usr/local/lib/python3.9/dist-packages (from tensorflow>=1.13.1->aif360[all]) (2.11.2)\n",
            "Requirement already satisfied: typing-extensions>=3.6.6 in /usr/local/lib/python3.9/dist-packages (from tensorflow>=1.13.1->aif360[all]) (4.5.0)\n",
            "Requirement already satisfied: protobuf<3.20,>=3.9.2 in /usr/local/lib/python3.9/dist-packages (from tensorflow>=1.13.1->aif360[all]) (3.19.6)\n",
            "Requirement already satisfied: termcolor>=1.1.0 in /usr/local/lib/python3.9/dist-packages (from tensorflow>=1.13.1->aif360[all]) (2.2.0)\n",
            "Requirement already satisfied: absl-py>=1.0.0 in /usr/local/lib/python3.9/dist-packages (from tensorflow>=1.13.1->aif360[all]) (1.4.0)\n",
            "Requirement already satisfied: libclang>=13.0.0 in /usr/local/lib/python3.9/dist-packages (from tensorflow>=1.13.1->aif360[all]) (15.0.6.1)\n",
            "Requirement already satisfied: opt-einsum>=2.3.2 in /usr/local/lib/python3.9/dist-packages (from tensorflow>=1.13.1->aif360[all]) (3.3.0)\n",
            "Requirement already satisfied: h5py>=2.9.0 in /usr/local/lib/python3.9/dist-packages (from tensorflow>=1.13.1->aif360[all]) (3.8.0)\n",
            "Requirement already satisfied: grpcio<2.0,>=1.24.3 in /usr/local/lib/python3.9/dist-packages (from tensorflow>=1.13.1->aif360[all]) (1.51.3)\n",
            "Requirement already satisfied: astunparse>=1.6.0 in /usr/local/lib/python3.9/dist-packages (from tensorflow>=1.13.1->aif360[all]) (1.6.3)\n",
            "Requirement already satisfied: gast<=0.4.0,>=0.2.1 in /usr/local/lib/python3.9/dist-packages (from tensorflow>=1.13.1->aif360[all]) (0.4.0)\n",
            "Requirement already satisfied: flatbuffers>=2.0 in /usr/local/lib/python3.9/dist-packages (from tensorflow>=1.13.1->aif360[all]) (23.3.3)\n",
            "Requirement already satisfied: networkx in /usr/local/lib/python3.9/dist-packages (from BlackBoxAuditing->aif360[all]) (3.0)\n",
            "Requirement already satisfied: texttable>=1.6.2 in /usr/local/lib/python3.9/dist-packages (from igraph[plotting]->aif360[all]) (1.6.7)\n",
            "Requirement already satisfied: cairocffi>=1.2.0 in /usr/local/lib/python3.9/dist-packages (from igraph[plotting]->aif360[all]) (1.5.0)\n",
            "Requirement already satisfied: pillow in /usr/local/lib/python3.9/dist-packages (from ipympl->aif360[all]) (8.4.0)\n",
            "Requirement already satisfied: ipywidgets<9,>=7.6.0 in /usr/local/lib/python3.9/dist-packages (from ipympl->aif360[all]) (7.7.1)\n",
            "Requirement already satisfied: traitlets<6 in /usr/local/lib/python3.9/dist-packages (from ipympl->aif360[all]) (5.7.1)\n",
            "Requirement already satisfied: ipython-genutils in /usr/local/lib/python3.9/dist-packages (from ipympl->aif360[all]) (0.2.0)\n",
            "Requirement already satisfied: ipython<9 in /usr/local/lib/python3.9/dist-packages (from ipympl->aif360[all]) (7.9.0)\n",
            "Requirement already satisfied: cycler>=0.10 in /usr/local/lib/python3.9/dist-packages (from matplotlib->aif360[all]) (0.11.0)\n",
            "Requirement already satisfied: contourpy>=1.0.1 in /usr/local/lib/python3.9/dist-packages (from matplotlib->aif360[all]) (1.0.7)\n",
            "Requirement already satisfied: pyparsing>=2.3.1 in /usr/local/lib/python3.9/dist-packages (from matplotlib->aif360[all]) (3.0.9)\n",
            "Requirement already satisfied: kiwisolver>=1.0.1 in /usr/local/lib/python3.9/dist-packages (from matplotlib->aif360[all]) (1.4.4)\n",
            "Requirement already satisfied: fonttools>=4.22.0 in /usr/local/lib/python3.9/dist-packages (from matplotlib->aif360[all]) (4.39.2)\n",
            "Requirement already satisfied: importlib-resources>=3.2.0 in /usr/local/lib/python3.9/dist-packages (from matplotlib->aif360[all]) (5.12.0)\n",
            "Requirement already satisfied: jupyter-console in /usr/local/lib/python3.9/dist-packages (from jupyter->aif360[all]) (6.1.0)\n",
            "Requirement already satisfied: qtconsole in /usr/local/lib/python3.9/dist-packages (from jupyter->aif360[all]) (5.4.1)\n",
            "Requirement already satisfied: nbconvert in /usr/local/lib/python3.9/dist-packages (from jupyter->aif360[all]) (6.5.4)\n",
            "Requirement already satisfied: notebook in /usr/local/lib/python3.9/dist-packages (from jupyter->aif360[all]) (6.3.0)\n",
            "Requirement already satisfied: ipykernel in /usr/local/lib/python3.9/dist-packages (from jupyter->aif360[all]) (5.3.4)\n",
            "Requirement already satisfied: wheel in /usr/local/lib/python3.9/dist-packages (from lightgbm->aif360[all]) (0.40.0)\n",
            "Requirement already satisfied: scikit-image>=0.12 in /usr/local/lib/python3.9/dist-packages (from lime->aif360[all]) (0.19.3)\n",
            "Requirement already satisfied: cffi>=1.10.0 in /usr/local/lib/python3.9/dist-packages (from rpy2->aif360[all]) (1.15.1)\n",
            "Requirement already satisfied: tzlocal in /usr/local/lib/python3.9/dist-packages (from rpy2->aif360[all]) (4.3)\n",
            "Requirement already satisfied: sphinxcontrib-jquery!=3.0.0,>=2.0.0 in /usr/local/lib/python3.9/dist-packages (from sphinx-rtd-theme->aif360[all]) (4.1)\n",
            "Requirement already satisfied: shap in /usr/local/lib/python3.9/dist-packages (from tempeh->aif360[all]) (0.41.0)\n",
            "Requirement already satisfied: memory-profiler in /usr/local/lib/python3.9/dist-packages (from tempeh->aif360[all]) (0.61.0)\n",
            "Requirement already satisfied: pycparser in /usr/local/lib/python3.9/dist-packages (from cffi>=1.10.0->rpy2->aif360[all]) (2.21)\n",
            "Requirement already satisfied: zipp>=3.1.0 in /usr/local/lib/python3.9/dist-packages (from importlib-resources>=3.2.0->matplotlib->aif360[all]) (3.15.0)\n",
            "Requirement already satisfied: pexpect in /usr/local/lib/python3.9/dist-packages (from ipython<9->ipympl->aif360[all]) (4.8.0)\n",
            "Requirement already satisfied: jedi>=0.10 in /usr/local/lib/python3.9/dist-packages (from ipython<9->ipympl->aif360[all]) (0.18.2)\n",
            "Requirement already satisfied: prompt-toolkit<2.1.0,>=2.0.0 in /usr/local/lib/python3.9/dist-packages (from ipython<9->ipympl->aif360[all]) (2.0.10)\n",
            "Requirement already satisfied: pickleshare in /usr/local/lib/python3.9/dist-packages (from ipython<9->ipympl->aif360[all]) (0.7.5)\n",
            "Requirement already satisfied: backcall in /usr/local/lib/python3.9/dist-packages (from ipython<9->ipympl->aif360[all]) (0.2.0)\n",
            "Requirement already satisfied: decorator in /usr/local/lib/python3.9/dist-packages (from ipython<9->ipympl->aif360[all]) (4.4.2)\n",
            "Requirement already satisfied: jupyterlab-widgets>=1.0.0 in /usr/local/lib/python3.9/dist-packages (from ipywidgets<9,>=7.6.0->ipympl->aif360[all]) (3.0.6)\n",
            "Requirement already satisfied: widgetsnbextension~=3.6.0 in /usr/local/lib/python3.9/dist-packages (from ipywidgets<9,>=7.6.0->ipympl->aif360[all]) (3.6.3)\n",
            "Requirement already satisfied: tornado>=4.2 in /usr/local/lib/python3.9/dist-packages (from ipykernel->jupyter->aif360[all]) (6.2)\n",
            "Requirement already satisfied: jupyter-client in /usr/local/lib/python3.9/dist-packages (from ipykernel->jupyter->aif360[all]) (6.1.12)\n",
            "Requirement already satisfied: qdldl in /usr/local/lib/python3.9/dist-packages (from osqp>=0.4.1->cvxpy>=1.0->aif360[all]) (0.1.5.post3)\n",
            "Requirement already satisfied: urllib3<1.27,>=1.21.1 in /usr/local/lib/python3.9/dist-packages (from requests>=2.0.0->sphinx<2->aif360[all]) (1.26.15)\n",
            "Requirement already satisfied: idna<4,>=2.5 in /usr/local/lib/python3.9/dist-packages (from requests>=2.0.0->sphinx<2->aif360[all]) (3.4)\n",
            "Requirement already satisfied: charset-normalizer~=2.0.0 in /usr/local/lib/python3.9/dist-packages (from requests>=2.0.0->sphinx<2->aif360[all]) (2.0.12)\n",
            "Requirement already satisfied: certifi>=2017.4.17 in /usr/local/lib/python3.9/dist-packages (from requests>=2.0.0->sphinx<2->aif360[all]) (2022.12.7)\n",
            "Requirement already satisfied: tifffile>=2019.7.26 in /usr/local/lib/python3.9/dist-packages (from scikit-image>=0.12->lime->aif360[all]) (2023.3.21)\n",
            "Requirement already satisfied: PyWavelets>=1.1.1 in /usr/local/lib/python3.9/dist-packages (from scikit-image>=0.12->lime->aif360[all]) (1.4.1)\n",
            "Requirement already satisfied: imageio>=2.4.1 in /usr/local/lib/python3.9/dist-packages (from scikit-image>=0.12->lime->aif360[all]) (2.25.1)\n",
            "Requirement already satisfied: google-auth<3,>=1.6.3 in /usr/local/lib/python3.9/dist-packages (from tensorboard<2.12,>=2.11->tensorflow>=1.13.1->aif360[all]) (2.16.2)\n",
            "Requirement already satisfied: tensorboard-plugin-wit>=1.6.0 in /usr/local/lib/python3.9/dist-packages (from tensorboard<2.12,>=2.11->tensorflow>=1.13.1->aif360[all]) (1.8.1)\n",
            "Requirement already satisfied: markdown>=2.6.8 in /usr/local/lib/python3.9/dist-packages (from tensorboard<2.12,>=2.11->tensorflow>=1.13.1->aif360[all]) (3.4.2)\n",
            "Requirement already satisfied: google-auth-oauthlib<0.5,>=0.4.1 in /usr/local/lib/python3.9/dist-packages (from tensorboard<2.12,>=2.11->tensorflow>=1.13.1->aif360[all]) (0.4.6)\n",
            "Requirement already satisfied: tensorboard-data-server<0.7.0,>=0.6.0 in /usr/local/lib/python3.9/dist-packages (from tensorboard<2.12,>=2.11->tensorflow>=1.13.1->aif360[all]) (0.6.1)\n",
            "Requirement already satisfied: werkzeug>=1.0.1 in /usr/local/lib/python3.9/dist-packages (from tensorboard<2.12,>=2.11->tensorflow>=1.13.1->aif360[all]) (2.2.3)\n",
            "Requirement already satisfied: psutil in /usr/local/lib/python3.9/dist-packages (from memory-profiler->tempeh->aif360[all]) (5.9.4)\n",
            "Requirement already satisfied: beautifulsoup4 in /usr/local/lib/python3.9/dist-packages (from nbconvert->jupyter->aif360[all]) (4.11.2)\n",
            "Requirement already satisfied: pandocfilters>=1.4.1 in /usr/local/lib/python3.9/dist-packages (from nbconvert->jupyter->aif360[all]) (1.5.0)\n",
            "Requirement already satisfied: nbformat>=5.1 in /usr/local/lib/python3.9/dist-packages (from nbconvert->jupyter->aif360[all]) (5.8.0)\n",
            "Requirement already satisfied: jupyterlab-pygments in /usr/local/lib/python3.9/dist-packages (from nbconvert->jupyter->aif360[all]) (0.2.2)\n",
            "Requirement already satisfied: jupyter-core>=4.7 in /usr/local/lib/python3.9/dist-packages (from nbconvert->jupyter->aif360[all]) (5.3.0)\n",
            "Requirement already satisfied: bleach in /usr/local/lib/python3.9/dist-packages (from nbconvert->jupyter->aif360[all]) (6.0.0)\n",
            "Requirement already satisfied: defusedxml in /usr/local/lib/python3.9/dist-packages (from nbconvert->jupyter->aif360[all]) (0.7.1)\n",
            "Requirement already satisfied: entrypoints>=0.2.2 in /usr/local/lib/python3.9/dist-packages (from nbconvert->jupyter->aif360[all]) (0.4)\n",
            "Requirement already satisfied: mistune<2,>=0.8.1 in /usr/local/lib/python3.9/dist-packages (from nbconvert->jupyter->aif360[all]) (0.8.4)\n",
            "Requirement already satisfied: tinycss2 in /usr/local/lib/python3.9/dist-packages (from nbconvert->jupyter->aif360[all]) (1.2.1)\n",
            "Requirement already satisfied: lxml in /usr/local/lib/python3.9/dist-packages (from nbconvert->jupyter->aif360[all]) (4.9.2)\n",
            "Requirement already satisfied: nbclient>=0.5.0 in /usr/local/lib/python3.9/dist-packages (from nbconvert->jupyter->aif360[all]) (0.7.2)\n",
            "Requirement already satisfied: pyzmq>=17 in /usr/local/lib/python3.9/dist-packages (from notebook->jupyter->aif360[all]) (23.2.1)\n",
            "Requirement already satisfied: prometheus-client in /usr/local/lib/python3.9/dist-packages (from notebook->jupyter->aif360[all]) (0.16.0)\n",
            "Requirement already satisfied: terminado>=0.8.3 in /usr/local/lib/python3.9/dist-packages (from notebook->jupyter->aif360[all]) (0.17.1)\n",
            "Requirement already satisfied: Send2Trash>=1.5.0 in /usr/local/lib/python3.9/dist-packages (from notebook->jupyter->aif360[all]) (1.8.0)\n",
            "Requirement already satisfied: argon2-cffi in /usr/local/lib/python3.9/dist-packages (from notebook->jupyter->aif360[all]) (21.3.0)\n",
            "Requirement already satisfied: qtpy>=2.0.1 in /usr/local/lib/python3.9/dist-packages (from qtconsole->jupyter->aif360[all]) (2.3.0)\n",
            "Requirement already satisfied: numba in /usr/local/lib/python3.9/dist-packages (from shap->tempeh->aif360[all]) (0.56.4)\n",
            "Requirement already satisfied: cloudpickle in /usr/local/lib/python3.9/dist-packages (from shap->tempeh->aif360[all]) (2.2.1)\n",
            "Requirement already satisfied: slicer==0.0.7 in /usr/local/lib/python3.9/dist-packages (from shap->tempeh->aif360[all]) (0.0.7)\n",
            "Requirement already satisfied: sphinxcontrib-serializinghtml in /usr/local/lib/python3.9/dist-packages (from sphinxcontrib-websupport->sphinx<2->aif360[all]) (1.1.5)\n",
            "Requirement already satisfied: pytz-deprecation-shim in /usr/local/lib/python3.9/dist-packages (from tzlocal->rpy2->aif360[all]) (0.1.0.post0)\n",
            "Requirement already satisfied: cachetools<6.0,>=2.0.0 in /usr/local/lib/python3.9/dist-packages (from google-auth<3,>=1.6.3->tensorboard<2.12,>=2.11->tensorflow>=1.13.1->aif360[all]) (5.3.0)\n",
            "Requirement already satisfied: pyasn1-modules>=0.2.1 in /usr/local/lib/python3.9/dist-packages (from google-auth<3,>=1.6.3->tensorboard<2.12,>=2.11->tensorflow>=1.13.1->aif360[all]) (0.2.8)\n",
            "Requirement already satisfied: rsa<5,>=3.1.4 in /usr/local/lib/python3.9/dist-packages (from google-auth<3,>=1.6.3->tensorboard<2.12,>=2.11->tensorflow>=1.13.1->aif360[all]) (4.9)\n",
            "Requirement already satisfied: requests-oauthlib>=0.7.0 in /usr/local/lib/python3.9/dist-packages (from google-auth-oauthlib<0.5,>=0.4.1->tensorboard<2.12,>=2.11->tensorflow>=1.13.1->aif360[all]) (1.3.1)\n",
            "Requirement already satisfied: parso<0.9.0,>=0.8.0 in /usr/local/lib/python3.9/dist-packages (from jedi>=0.10->ipython<9->ipympl->aif360[all]) (0.8.3)\n",
            "Requirement already satisfied: platformdirs>=2.5 in /usr/local/lib/python3.9/dist-packages (from jupyter-core>=4.7->nbconvert->jupyter->aif360[all]) (3.1.1)\n",
            "Requirement already satisfied: importlib-metadata>=4.4 in /usr/local/lib/python3.9/dist-packages (from markdown>=2.6.8->tensorboard<2.12,>=2.11->tensorflow>=1.13.1->aif360[all]) (6.1.0)\n",
            "Requirement already satisfied: jsonschema>=2.6 in /usr/local/lib/python3.9/dist-packages (from nbformat>=5.1->nbconvert->jupyter->aif360[all]) (4.3.3)\n",
            "Requirement already satisfied: fastjsonschema in /usr/local/lib/python3.9/dist-packages (from nbformat>=5.1->nbconvert->jupyter->aif360[all]) (2.16.3)\n",
            "Requirement already satisfied: wcwidth in /usr/local/lib/python3.9/dist-packages (from prompt-toolkit<2.1.0,>=2.0.0->ipython<9->ipympl->aif360[all]) (0.2.6)\n",
            "Requirement already satisfied: ptyprocess in /usr/local/lib/python3.9/dist-packages (from terminado>=0.8.3->notebook->jupyter->aif360[all]) (0.7.0)\n",
            "Requirement already satisfied: argon2-cffi-bindings in /usr/local/lib/python3.9/dist-packages (from argon2-cffi->notebook->jupyter->aif360[all]) (21.2.0)\n",
            "Requirement already satisfied: soupsieve>1.2 in /usr/local/lib/python3.9/dist-packages (from beautifulsoup4->nbconvert->jupyter->aif360[all]) (2.4)\n",
            "Requirement already satisfied: webencodings in /usr/local/lib/python3.9/dist-packages (from bleach->nbconvert->jupyter->aif360[all]) (0.5.1)\n",
            "Requirement already satisfied: llvmlite<0.40,>=0.39.0dev0 in /usr/local/lib/python3.9/dist-packages (from numba->shap->tempeh->aif360[all]) (0.39.1)\n",
            "Requirement already satisfied: tzdata in /usr/local/lib/python3.9/dist-packages (from pytz-deprecation-shim->tzlocal->rpy2->aif360[all]) (2022.7)\n",
            "Requirement already satisfied: pyrsistent!=0.17.0,!=0.17.1,!=0.17.2,>=0.14.0 in /usr/local/lib/python3.9/dist-packages (from jsonschema>=2.6->nbformat>=5.1->nbconvert->jupyter->aif360[all]) (0.19.3)\n",
            "Requirement already satisfied: pyasn1<0.5.0,>=0.4.6 in /usr/local/lib/python3.9/dist-packages (from pyasn1-modules>=0.2.1->google-auth<3,>=1.6.3->tensorboard<2.12,>=2.11->tensorflow>=1.13.1->aif360[all]) (0.4.8)\n",
            "Requirement already satisfied: oauthlib>=3.0.0 in /usr/local/lib/python3.9/dist-packages (from requests-oauthlib>=0.7.0->google-auth-oauthlib<0.5,>=0.4.1->tensorboard<2.12,>=2.11->tensorflow>=1.13.1->aif360[all]) (3.2.2)\n"
          ]
        }
      ],
      "source": [
        "# Despues de ejecutar esta celda debes Reiniciar Entorno de Ejecución y nuevamente ejecutar esta celda\n",
        "%pip install 'aif360[all]'"
      ]
    },
    {
      "cell_type": "code",
      "source": [
        "import sys\n",
        "import wget\n",
        "import os\n",
        "import numpy as np\n",
        "from IPython.display import Markdown, display\n",
        "import pandas as pd\n",
        "\n",
        "from aif360.datasets import GermanDataset\n",
        "from aif360.metrics import BinaryLabelDatasetMetric\n",
        "from aif360.algorithms.preprocessing import Reweighing\n",
        "\n",
        "sys.path.insert(1, \"../\")\n",
        "np.random.seed(0)\n",
        "pd.set_option('display.max_columns', None)"
      ],
      "metadata": {
        "id": "iCbsfJ7BgeuV"
      },
      "execution_count": null,
      "outputs": []
    },
    {
      "cell_type": "markdown",
      "source": [
        "#### AI Fairness 360"
      ],
      "metadata": {
        "id": "fmhpNNRHk_6u"
      }
    },
    {
      "cell_type": "markdown",
      "source": [
        "En el código base de AIF360, existen tres puntos para detectar y mitigar el sesgo (preprocesamiento - *pre-processing*, procesamiento interno - *in-processing* y procesamiento posterior - *post-processing*).\n",
        "\n",
        "\"Buscaremos sesgos en la creación de un modelo ML para predecir si un solicitante debe recibir crédito en función de varias características de una solicitud de crédito típica. El atributo protegido será Edad (`age`), siendo '1' (mayor o igual a 25 años) y '0' (menor de 25) los valores para los grupos privilegiados y no privilegiados, respectivamente\". \n",
        "\n",
        "\"Verificaremos el sesgo en los datos de entrenamiento inicial, mitigaremos el sesgo y volveremos a verificar\".\n",
        "\n",
        "* *Visite este [link](https://aif360.readthedocs.io/en/stable/) para ver la documentación de AIF360.*"
      ],
      "metadata": {
        "id": "SqAi-pGvlDPu"
      }
    },
    {
      "cell_type": "markdown",
      "source": [
        "#### Dataset"
      ],
      "metadata": {
        "id": "S_MRPzyme8xa"
      }
    },
    {
      "cell_type": "markdown",
      "source": [
        "El conjunto de datos utilizado se puede utilizar para entrenar un modelo el cual predice si un solicitante de prestamo bancario pagará o no.\n",
        "\n",
        "\"*El escenario del préstamo bancario describe un ejemplo intuitivo de sesgo ilegal, ya que el modelo puede basar su decisión en la edad de un solicitante, independientemente de si esta es una buena predicción basada en datos históricos. Sin embargo, no todos los sesgos indeseables en el aprendizaje automático son ilegales; también pueden existir de formas más sutiles. Por ejemplo, una compañía de préstamos puede desear una cartera diversa de clientes en todos los niveles de ingresos y, por lo tanto, considerará indeseable otorgar más préstamos a niveles de ingresos altos que a niveles de ingresos bajos*\".\n",
        "\n",
        "\"*Un conjunto de herramientas de detección y/o mitigación de sesgos debe adaptarse al sesgo particular de interés. Más específicamente, necesita conocer el atributo o atributos, denominados atributos protegidos, que son de interés: la raza es un ejemplo de atributo protegido y la edad es un segundo*\".\n",
        "\n",
        "* Visite este [link](https://github.com/jpzambranoleon/german-credit-data-project) para visualizar la base de datos 'procesada'."
      ],
      "metadata": {
        "id": "SnPDRtrqe-k_"
      }
    },
    {
      "cell_type": "code",
      "source": [
        "# Descargar y mover archivos necesarios para evitar un error no resuelto en la clase 'GermanDataset'\n",
        "\n",
        "output_directory = os.path.join(\"/usr/local/lib/python3.9/dist-packages/aif360/data/raw/german\")\n",
        "\n",
        "german_data_url = \"https://archive.ics.uci.edu/ml/machine-learning-databases/statlog/german/german.data\"\n",
        "german_doc_url = \"https://archive.ics.uci.edu/ml/machine-learning-databases/statlog/german/german.doc\"\n",
        "\n",
        "german_data = wget.download(german_data_url, out=output_directory)\n",
        "german_doc = wget.download(german_doc_url, out=output_directory)"
      ],
      "metadata": {
        "id": "XwYI2zvUuHQd"
      },
      "execution_count": null,
      "outputs": []
    },
    {
      "cell_type": "code",
      "source": [
        "dataset = GermanDataset()\n",
        "dataset, _ = dataset.convert_to_dataframe(de_dummy_code=True, set_category=True)\n",
        "dataset"
      ],
      "metadata": {
        "colab": {
          "base_uri": "https://localhost:8080/",
          "height": 661
        },
        "id": "pF7hEcR_2GkK",
        "outputId": "aedbdc4f-0e66-4647-c1d0-0bfd3741f9da"
      },
      "execution_count": null,
      "outputs": [
        {
          "output_type": "execute_result",
          "data": {
            "text/plain": [
              "     month  credit_amount  investment_as_income_percentage  residence_since  \\\n",
              "0      6.0         1169.0                              4.0              4.0   \n",
              "1     48.0         5951.0                              2.0              2.0   \n",
              "2     12.0         2096.0                              2.0              3.0   \n",
              "3     42.0         7882.0                              2.0              4.0   \n",
              "4     24.0         4870.0                              3.0              4.0   \n",
              "..     ...            ...                              ...              ...   \n",
              "995   12.0         1736.0                              3.0              4.0   \n",
              "996   30.0         3857.0                              4.0              4.0   \n",
              "997   12.0          804.0                              4.0              4.0   \n",
              "998   45.0         1845.0                              4.0              4.0   \n",
              "999   45.0         4576.0                              3.0              4.0   \n",
              "\n",
              "       age  number_of_credits  people_liable_for     sex       credit status  \\\n",
              "0      Old                2.0                1.0    Male  Good Credit    A11   \n",
              "1    Young                1.0                1.0  Female   Bad Credit    A12   \n",
              "2      Old                1.0                2.0    Male  Good Credit    A14   \n",
              "3      Old                1.0                2.0    Male  Good Credit    A11   \n",
              "4      Old                2.0                2.0    Male   Bad Credit    A11   \n",
              "..     ...                ...                ...     ...          ...    ...   \n",
              "995    Old                1.0                1.0  Female  Good Credit    A14   \n",
              "996    Old                1.0                1.0    Male  Good Credit    A11   \n",
              "997    Old                1.0                1.0    Male  Good Credit    A14   \n",
              "998  Young                1.0                1.0    Male   Bad Credit    A11   \n",
              "999    Old                1.0                1.0    Male  Good Credit    A12   \n",
              "\n",
              "    credit_history purpose savings employment other_debtors property  \\\n",
              "0              A34     A43     A65        A75          A101     A121   \n",
              "1              A32     A43     A61        A73          A101     A121   \n",
              "2              A34     A46     A61        A74          A101     A121   \n",
              "3              A32     A42     A61        A74          A103     A122   \n",
              "4              A33     A40     A61        A73          A101     A124   \n",
              "..             ...     ...     ...        ...           ...      ...   \n",
              "995            A32     A42     A61        A74          A101     A121   \n",
              "996            A32     A41     A61        A73          A101     A122   \n",
              "997            A32     A43     A61        A75          A101     A123   \n",
              "998            A32     A43     A61        A73          A101     A124   \n",
              "999            A34     A41     A62        A71          A101     A123   \n",
              "\n",
              "    installment_plans housing skill_level telephone foreign_worker  \n",
              "0                A143    A152        A173      A192           A201  \n",
              "1                A143    A152        A173      A191           A201  \n",
              "2                A143    A152        A172      A191           A201  \n",
              "3                A143    A153        A173      A191           A201  \n",
              "4                A143    A153        A173      A191           A201  \n",
              "..                ...     ...         ...       ...            ...  \n",
              "995              A143    A152        A172      A191           A201  \n",
              "996              A143    A152        A174      A192           A201  \n",
              "997              A143    A152        A173      A191           A201  \n",
              "998              A143    A153        A173      A192           A201  \n",
              "999              A143    A152        A173      A191           A201  \n",
              "\n",
              "[1000 rows x 21 columns]"
            ],
            "text/html": [
              "\n",
              "  <div id=\"df-b9db02eb-7bfa-4f68-b5f2-89ebb07bd688\">\n",
              "    <div class=\"colab-df-container\">\n",
              "      <div>\n",
              "<style scoped>\n",
              "    .dataframe tbody tr th:only-of-type {\n",
              "        vertical-align: middle;\n",
              "    }\n",
              "\n",
              "    .dataframe tbody tr th {\n",
              "        vertical-align: top;\n",
              "    }\n",
              "\n",
              "    .dataframe thead th {\n",
              "        text-align: right;\n",
              "    }\n",
              "</style>\n",
              "<table border=\"1\" class=\"dataframe\">\n",
              "  <thead>\n",
              "    <tr style=\"text-align: right;\">\n",
              "      <th></th>\n",
              "      <th>month</th>\n",
              "      <th>credit_amount</th>\n",
              "      <th>investment_as_income_percentage</th>\n",
              "      <th>residence_since</th>\n",
              "      <th>age</th>\n",
              "      <th>number_of_credits</th>\n",
              "      <th>people_liable_for</th>\n",
              "      <th>sex</th>\n",
              "      <th>credit</th>\n",
              "      <th>status</th>\n",
              "      <th>credit_history</th>\n",
              "      <th>purpose</th>\n",
              "      <th>savings</th>\n",
              "      <th>employment</th>\n",
              "      <th>other_debtors</th>\n",
              "      <th>property</th>\n",
              "      <th>installment_plans</th>\n",
              "      <th>housing</th>\n",
              "      <th>skill_level</th>\n",
              "      <th>telephone</th>\n",
              "      <th>foreign_worker</th>\n",
              "    </tr>\n",
              "  </thead>\n",
              "  <tbody>\n",
              "    <tr>\n",
              "      <th>0</th>\n",
              "      <td>6.0</td>\n",
              "      <td>1169.0</td>\n",
              "      <td>4.0</td>\n",
              "      <td>4.0</td>\n",
              "      <td>Old</td>\n",
              "      <td>2.0</td>\n",
              "      <td>1.0</td>\n",
              "      <td>Male</td>\n",
              "      <td>Good Credit</td>\n",
              "      <td>A11</td>\n",
              "      <td>A34</td>\n",
              "      <td>A43</td>\n",
              "      <td>A65</td>\n",
              "      <td>A75</td>\n",
              "      <td>A101</td>\n",
              "      <td>A121</td>\n",
              "      <td>A143</td>\n",
              "      <td>A152</td>\n",
              "      <td>A173</td>\n",
              "      <td>A192</td>\n",
              "      <td>A201</td>\n",
              "    </tr>\n",
              "    <tr>\n",
              "      <th>1</th>\n",
              "      <td>48.0</td>\n",
              "      <td>5951.0</td>\n",
              "      <td>2.0</td>\n",
              "      <td>2.0</td>\n",
              "      <td>Young</td>\n",
              "      <td>1.0</td>\n",
              "      <td>1.0</td>\n",
              "      <td>Female</td>\n",
              "      <td>Bad Credit</td>\n",
              "      <td>A12</td>\n",
              "      <td>A32</td>\n",
              "      <td>A43</td>\n",
              "      <td>A61</td>\n",
              "      <td>A73</td>\n",
              "      <td>A101</td>\n",
              "      <td>A121</td>\n",
              "      <td>A143</td>\n",
              "      <td>A152</td>\n",
              "      <td>A173</td>\n",
              "      <td>A191</td>\n",
              "      <td>A201</td>\n",
              "    </tr>\n",
              "    <tr>\n",
              "      <th>2</th>\n",
              "      <td>12.0</td>\n",
              "      <td>2096.0</td>\n",
              "      <td>2.0</td>\n",
              "      <td>3.0</td>\n",
              "      <td>Old</td>\n",
              "      <td>1.0</td>\n",
              "      <td>2.0</td>\n",
              "      <td>Male</td>\n",
              "      <td>Good Credit</td>\n",
              "      <td>A14</td>\n",
              "      <td>A34</td>\n",
              "      <td>A46</td>\n",
              "      <td>A61</td>\n",
              "      <td>A74</td>\n",
              "      <td>A101</td>\n",
              "      <td>A121</td>\n",
              "      <td>A143</td>\n",
              "      <td>A152</td>\n",
              "      <td>A172</td>\n",
              "      <td>A191</td>\n",
              "      <td>A201</td>\n",
              "    </tr>\n",
              "    <tr>\n",
              "      <th>3</th>\n",
              "      <td>42.0</td>\n",
              "      <td>7882.0</td>\n",
              "      <td>2.0</td>\n",
              "      <td>4.0</td>\n",
              "      <td>Old</td>\n",
              "      <td>1.0</td>\n",
              "      <td>2.0</td>\n",
              "      <td>Male</td>\n",
              "      <td>Good Credit</td>\n",
              "      <td>A11</td>\n",
              "      <td>A32</td>\n",
              "      <td>A42</td>\n",
              "      <td>A61</td>\n",
              "      <td>A74</td>\n",
              "      <td>A103</td>\n",
              "      <td>A122</td>\n",
              "      <td>A143</td>\n",
              "      <td>A153</td>\n",
              "      <td>A173</td>\n",
              "      <td>A191</td>\n",
              "      <td>A201</td>\n",
              "    </tr>\n",
              "    <tr>\n",
              "      <th>4</th>\n",
              "      <td>24.0</td>\n",
              "      <td>4870.0</td>\n",
              "      <td>3.0</td>\n",
              "      <td>4.0</td>\n",
              "      <td>Old</td>\n",
              "      <td>2.0</td>\n",
              "      <td>2.0</td>\n",
              "      <td>Male</td>\n",
              "      <td>Bad Credit</td>\n",
              "      <td>A11</td>\n",
              "      <td>A33</td>\n",
              "      <td>A40</td>\n",
              "      <td>A61</td>\n",
              "      <td>A73</td>\n",
              "      <td>A101</td>\n",
              "      <td>A124</td>\n",
              "      <td>A143</td>\n",
              "      <td>A153</td>\n",
              "      <td>A173</td>\n",
              "      <td>A191</td>\n",
              "      <td>A201</td>\n",
              "    </tr>\n",
              "    <tr>\n",
              "      <th>...</th>\n",
              "      <td>...</td>\n",
              "      <td>...</td>\n",
              "      <td>...</td>\n",
              "      <td>...</td>\n",
              "      <td>...</td>\n",
              "      <td>...</td>\n",
              "      <td>...</td>\n",
              "      <td>...</td>\n",
              "      <td>...</td>\n",
              "      <td>...</td>\n",
              "      <td>...</td>\n",
              "      <td>...</td>\n",
              "      <td>...</td>\n",
              "      <td>...</td>\n",
              "      <td>...</td>\n",
              "      <td>...</td>\n",
              "      <td>...</td>\n",
              "      <td>...</td>\n",
              "      <td>...</td>\n",
              "      <td>...</td>\n",
              "      <td>...</td>\n",
              "    </tr>\n",
              "    <tr>\n",
              "      <th>995</th>\n",
              "      <td>12.0</td>\n",
              "      <td>1736.0</td>\n",
              "      <td>3.0</td>\n",
              "      <td>4.0</td>\n",
              "      <td>Old</td>\n",
              "      <td>1.0</td>\n",
              "      <td>1.0</td>\n",
              "      <td>Female</td>\n",
              "      <td>Good Credit</td>\n",
              "      <td>A14</td>\n",
              "      <td>A32</td>\n",
              "      <td>A42</td>\n",
              "      <td>A61</td>\n",
              "      <td>A74</td>\n",
              "      <td>A101</td>\n",
              "      <td>A121</td>\n",
              "      <td>A143</td>\n",
              "      <td>A152</td>\n",
              "      <td>A172</td>\n",
              "      <td>A191</td>\n",
              "      <td>A201</td>\n",
              "    </tr>\n",
              "    <tr>\n",
              "      <th>996</th>\n",
              "      <td>30.0</td>\n",
              "      <td>3857.0</td>\n",
              "      <td>4.0</td>\n",
              "      <td>4.0</td>\n",
              "      <td>Old</td>\n",
              "      <td>1.0</td>\n",
              "      <td>1.0</td>\n",
              "      <td>Male</td>\n",
              "      <td>Good Credit</td>\n",
              "      <td>A11</td>\n",
              "      <td>A32</td>\n",
              "      <td>A41</td>\n",
              "      <td>A61</td>\n",
              "      <td>A73</td>\n",
              "      <td>A101</td>\n",
              "      <td>A122</td>\n",
              "      <td>A143</td>\n",
              "      <td>A152</td>\n",
              "      <td>A174</td>\n",
              "      <td>A192</td>\n",
              "      <td>A201</td>\n",
              "    </tr>\n",
              "    <tr>\n",
              "      <th>997</th>\n",
              "      <td>12.0</td>\n",
              "      <td>804.0</td>\n",
              "      <td>4.0</td>\n",
              "      <td>4.0</td>\n",
              "      <td>Old</td>\n",
              "      <td>1.0</td>\n",
              "      <td>1.0</td>\n",
              "      <td>Male</td>\n",
              "      <td>Good Credit</td>\n",
              "      <td>A14</td>\n",
              "      <td>A32</td>\n",
              "      <td>A43</td>\n",
              "      <td>A61</td>\n",
              "      <td>A75</td>\n",
              "      <td>A101</td>\n",
              "      <td>A123</td>\n",
              "      <td>A143</td>\n",
              "      <td>A152</td>\n",
              "      <td>A173</td>\n",
              "      <td>A191</td>\n",
              "      <td>A201</td>\n",
              "    </tr>\n",
              "    <tr>\n",
              "      <th>998</th>\n",
              "      <td>45.0</td>\n",
              "      <td>1845.0</td>\n",
              "      <td>4.0</td>\n",
              "      <td>4.0</td>\n",
              "      <td>Young</td>\n",
              "      <td>1.0</td>\n",
              "      <td>1.0</td>\n",
              "      <td>Male</td>\n",
              "      <td>Bad Credit</td>\n",
              "      <td>A11</td>\n",
              "      <td>A32</td>\n",
              "      <td>A43</td>\n",
              "      <td>A61</td>\n",
              "      <td>A73</td>\n",
              "      <td>A101</td>\n",
              "      <td>A124</td>\n",
              "      <td>A143</td>\n",
              "      <td>A153</td>\n",
              "      <td>A173</td>\n",
              "      <td>A192</td>\n",
              "      <td>A201</td>\n",
              "    </tr>\n",
              "    <tr>\n",
              "      <th>999</th>\n",
              "      <td>45.0</td>\n",
              "      <td>4576.0</td>\n",
              "      <td>3.0</td>\n",
              "      <td>4.0</td>\n",
              "      <td>Old</td>\n",
              "      <td>1.0</td>\n",
              "      <td>1.0</td>\n",
              "      <td>Male</td>\n",
              "      <td>Good Credit</td>\n",
              "      <td>A12</td>\n",
              "      <td>A34</td>\n",
              "      <td>A41</td>\n",
              "      <td>A62</td>\n",
              "      <td>A71</td>\n",
              "      <td>A101</td>\n",
              "      <td>A123</td>\n",
              "      <td>A143</td>\n",
              "      <td>A152</td>\n",
              "      <td>A173</td>\n",
              "      <td>A191</td>\n",
              "      <td>A201</td>\n",
              "    </tr>\n",
              "  </tbody>\n",
              "</table>\n",
              "<p>1000 rows × 21 columns</p>\n",
              "</div>\n",
              "      <button class=\"colab-df-convert\" onclick=\"convertToInteractive('df-b9db02eb-7bfa-4f68-b5f2-89ebb07bd688')\"\n",
              "              title=\"Convert this dataframe to an interactive table.\"\n",
              "              style=\"display:none;\">\n",
              "        \n",
              "  <svg xmlns=\"http://www.w3.org/2000/svg\" height=\"24px\"viewBox=\"0 0 24 24\"\n",
              "       width=\"24px\">\n",
              "    <path d=\"M0 0h24v24H0V0z\" fill=\"none\"/>\n",
              "    <path d=\"M18.56 5.44l.94 2.06.94-2.06 2.06-.94-2.06-.94-.94-2.06-.94 2.06-2.06.94zm-11 1L8.5 8.5l.94-2.06 2.06-.94-2.06-.94L8.5 2.5l-.94 2.06-2.06.94zm10 10l.94 2.06.94-2.06 2.06-.94-2.06-.94-.94-2.06-.94 2.06-2.06.94z\"/><path d=\"M17.41 7.96l-1.37-1.37c-.4-.4-.92-.59-1.43-.59-.52 0-1.04.2-1.43.59L10.3 9.45l-7.72 7.72c-.78.78-.78 2.05 0 2.83L4 21.41c.39.39.9.59 1.41.59.51 0 1.02-.2 1.41-.59l7.78-7.78 2.81-2.81c.8-.78.8-2.07 0-2.86zM5.41 20L4 18.59l7.72-7.72 1.47 1.35L5.41 20z\"/>\n",
              "  </svg>\n",
              "      </button>\n",
              "      \n",
              "  <style>\n",
              "    .colab-df-container {\n",
              "      display:flex;\n",
              "      flex-wrap:wrap;\n",
              "      gap: 12px;\n",
              "    }\n",
              "\n",
              "    .colab-df-convert {\n",
              "      background-color: #E8F0FE;\n",
              "      border: none;\n",
              "      border-radius: 50%;\n",
              "      cursor: pointer;\n",
              "      display: none;\n",
              "      fill: #1967D2;\n",
              "      height: 32px;\n",
              "      padding: 0 0 0 0;\n",
              "      width: 32px;\n",
              "    }\n",
              "\n",
              "    .colab-df-convert:hover {\n",
              "      background-color: #E2EBFA;\n",
              "      box-shadow: 0px 1px 2px rgba(60, 64, 67, 0.3), 0px 1px 3px 1px rgba(60, 64, 67, 0.15);\n",
              "      fill: #174EA6;\n",
              "    }\n",
              "\n",
              "    [theme=dark] .colab-df-convert {\n",
              "      background-color: #3B4455;\n",
              "      fill: #D2E3FC;\n",
              "    }\n",
              "\n",
              "    [theme=dark] .colab-df-convert:hover {\n",
              "      background-color: #434B5C;\n",
              "      box-shadow: 0px 1px 3px 1px rgba(0, 0, 0, 0.15);\n",
              "      filter: drop-shadow(0px 1px 2px rgba(0, 0, 0, 0.3));\n",
              "      fill: #FFFFFF;\n",
              "    }\n",
              "  </style>\n",
              "\n",
              "      <script>\n",
              "        const buttonEl =\n",
              "          document.querySelector('#df-b9db02eb-7bfa-4f68-b5f2-89ebb07bd688 button.colab-df-convert');\n",
              "        buttonEl.style.display =\n",
              "          google.colab.kernel.accessAllowed ? 'block' : 'none';\n",
              "\n",
              "        async function convertToInteractive(key) {\n",
              "          const element = document.querySelector('#df-b9db02eb-7bfa-4f68-b5f2-89ebb07bd688');\n",
              "          const dataTable =\n",
              "            await google.colab.kernel.invokeFunction('convertToInteractive',\n",
              "                                                     [key], {});\n",
              "          if (!dataTable) return;\n",
              "\n",
              "          const docLinkHtml = 'Like what you see? Visit the ' +\n",
              "            '<a target=\"_blank\" href=https://colab.research.google.com/notebooks/data_table.ipynb>data table notebook</a>'\n",
              "            + ' to learn more about interactive tables.';\n",
              "          element.innerHTML = '';\n",
              "          dataTable['output_type'] = 'display_data';\n",
              "          await google.colab.output.renderOutput(dataTable, element);\n",
              "          const docLink = document.createElement('div');\n",
              "          docLink.innerHTML = docLinkHtml;\n",
              "          element.appendChild(docLink);\n",
              "        }\n",
              "      </script>\n",
              "    </div>\n",
              "  </div>\n",
              "  "
            ]
          },
          "metadata": {},
          "execution_count": 3
        }
      ]
    },
    {
      "cell_type": "code",
      "source": [
        "dataset.info()"
      ],
      "metadata": {
        "colab": {
          "base_uri": "https://localhost:8080/"
        },
        "id": "LPDQPzajacFI",
        "outputId": "d4d6697d-fb64-4eff-aa15-071986eef72a"
      },
      "execution_count": null,
      "outputs": [
        {
          "output_type": "stream",
          "name": "stdout",
          "text": [
            "<class 'pandas.core.frame.DataFrame'>\n",
            "Index: 1000 entries, 0 to 999\n",
            "Data columns (total 21 columns):\n",
            " #   Column                           Non-Null Count  Dtype   \n",
            "---  ------                           --------------  -----   \n",
            " 0   month                            1000 non-null   float64 \n",
            " 1   credit_amount                    1000 non-null   float64 \n",
            " 2   investment_as_income_percentage  1000 non-null   float64 \n",
            " 3   residence_since                  1000 non-null   float64 \n",
            " 4   age                              1000 non-null   object  \n",
            " 5   number_of_credits                1000 non-null   float64 \n",
            " 6   people_liable_for                1000 non-null   float64 \n",
            " 7   sex                              1000 non-null   object  \n",
            " 8   credit                           1000 non-null   object  \n",
            " 9   status                           1000 non-null   category\n",
            " 10  credit_history                   1000 non-null   category\n",
            " 11  purpose                          1000 non-null   category\n",
            " 12  savings                          1000 non-null   category\n",
            " 13  employment                       1000 non-null   category\n",
            " 14  other_debtors                    1000 non-null   category\n",
            " 15  property                         1000 non-null   category\n",
            " 16  installment_plans                1000 non-null   category\n",
            " 17  housing                          1000 non-null   category\n",
            " 18  skill_level                      1000 non-null   category\n",
            " 19  telephone                        1000 non-null   category\n",
            " 20  foreign_worker                   1000 non-null   category\n",
            "dtypes: category(12), float64(6), object(3)\n",
            "memory usage: 92.1+ KB\n"
          ]
        }
      ]
    },
    {
      "cell_type": "markdown",
      "source": [
        "##### **Especificar el atributo protegido**"
      ],
      "metadata": {
        "id": "dr0nLZ8fouxt"
      }
    },
    {
      "cell_type": "markdown",
      "source": [
        "\"El atributo protegido será `age`. Aunque usaremos solo el conjunto de datos de entrenamiento en este tutorial, un flujo de trabajo normal también usaría un conjunto de datos de test para evaluar la eficacia (accuracy, fairness, etc.) durante el desarrollo de un modelo ML. Finalmente, establecemos dos variables (que se usarán más adelante) para los valores privilegiados (1) y no privilegiados (0) para el atributo `age`. Estos son insumos clave para detectar y mitigar el sesgo\"."
      ],
      "metadata": {
        "id": "ahveO1Dxo4a3"
      }
    },
    {
      "cell_type": "code",
      "source": [
        "# Este dataset también contiene atributos protegidos como 'sex' que no consideramos en esta evaluación.\n",
        "# Se ignoran los atributos/columnas relacionadas con el sexo\n",
        "\n",
        "dataset_orig = GermanDataset(\n",
        "    protected_attribute_names=['age'],\n",
        "    privileged_classes=[lambda x: x >= 25],\n",
        "    features_to_drop=['personal_status', 'sex']\n",
        ")\n",
        "\n",
        "dataset_orig_train, dataset_orig_test = dataset_orig.split([0.7], shuffle=True)\n",
        "\n",
        "# La edad >=25, es decir, con valor 1, se considera privilegiada\n",
        "privileged_groups = [{'age': 1}]\n",
        "# La edad <25 (0), es decir, con valor 0 se considera no privilegiada\n",
        "unprivileged_groups = [{'age': 0}]"
      ],
      "metadata": {
        "id": "4DGYM1LMe94Q"
      },
      "execution_count": null,
      "outputs": []
    },
    {
      "cell_type": "markdown",
      "source": [
        "#### Calcular la métrica de equidad\n",
        "\n",
        "\"Ahora que identificamos el atributo protegido `age` y definimos valores privilegiados y no privilegiados, podemos usar AIF360 para detectar sesgos en el conjunto de datos. Una prueba sencilla es comparar el porcentaje de resultados favorables para los grupos privilegiados y no privilegiados, restando el primero del segundo\". \n",
        "\n",
        "\"Un valor negativo indica resultados menos favorables para los grupos no privilegiados. Esto se implementa en el método llamado `mean_difference` en la clase `BinaryLabelDatasetMetric`\"."
      ],
      "metadata": {
        "id": "eVwgh9TJopCM"
      }
    },
    {
      "cell_type": "code",
      "source": [
        "metric_orig_train = BinaryLabelDatasetMetric(dataset_orig_train, \n",
        "                                             unprivileged_groups=unprivileged_groups,\n",
        "                                             privileged_groups=privileged_groups)\n",
        "\n",
        "# Métrica de equidad (mean difference)\n",
        "metric_f = metric_orig_train.mean_difference()\n",
        "\n",
        "display(Markdown(\"#### Dataset de entrenamiento original\"))\n",
        "print(\"Diferencia en los resultados medios entre grupos privilegiados y no privilegiados = %f\" % metric_f)"
      ],
      "metadata": {
        "colab": {
          "base_uri": "https://localhost:8080/",
          "height": 74
        },
        "id": "U-gTnlTo5IfZ",
        "outputId": "2c9d0848-06e7-48f4-99b7-738321d7cff5"
      },
      "execution_count": null,
      "outputs": [
        {
          "output_type": "display_data",
          "data": {
            "text/plain": [
              "<IPython.core.display.Markdown object>"
            ],
            "text/markdown": "#### Dataset de entrenamiento original"
          },
          "metadata": {}
        },
        {
          "output_type": "stream",
          "name": "stdout",
          "text": [
            "Diferencia en los resultados medios entre grupos privilegiados y no privilegiados = -0.169905\n"
          ]
        }
      ]
    },
    {
      "cell_type": "markdown",
      "source": [
        "El método `mean_diference()` hace referencia a `statistical_parity_difference()` y su formula es:\n",
        "\n",
        "$$ Pr(Y = 1 | D = unprivileged) − Pr(Y = 1 | D = privileged) $$\n"
      ],
      "metadata": {
        "id": "p-nBVGbG68ZS"
      }
    },
    {
      "cell_type": "markdown",
      "source": [
        "* Para entender un poco más sobre la elección de métricas y mitigación visite este [link](https://aif360.mybluemix.net/resources#guidance)"
      ],
      "metadata": {
        "id": "t7zj1W3MVfYQ"
      }
    },
    {
      "cell_type": "markdown",
      "source": [
        "#### Mitigar el sesgo\n",
        "\n",
        "Para mitigar el sesgo se transformará el dataset original. \n",
        "\n",
        "\"El paso anterior mostró que el grupo privilegiado (personas con 25 años de edad o más) estaba obteniendo un ~17% más de resultados positivos en el conjunto de datos de entrenamiento. Dado que esto no es deseable, vamos a intentar mitigar este sesgo en el conjunto de datos de entrenamiento. Esto se denomina mitigación de preprocesamiento (*pre-processing mitigation*) porque ocurre antes de la creación del modelo\".\n",
        "\n",
        "\"AIF360 implementa varios algoritmos de mitigación de preprocesamiento. Elegiremos el algoritmo Reweighing [(Kamiran & Calders, 2012)](https://link.springer.com/article/10.1007/s10115-011-0463-8), que se implementa en la clase `Reweighing` en el paquete `aif360.algorithms.preprocessing`. Este algoritmo transformará el conjunto de datos para que tenga más equidad en los resultados positivos del atributo protegido para los grupos privilegiados y no privilegiados\".\n",
        "\n",
        "\"Luego llamamos a los métodos fit y transform (`fit_transform`) para realizar la transformación, produciendo un conjunto de datos de entrenamiento recién transformado (`dataset_transf_train`)\"."
      ],
      "metadata": {
        "id": "Cy1XqxrH6oJH"
      }
    },
    {
      "cell_type": "code",
      "source": [
        "RW = Reweighing(unprivileged_groups=unprivileged_groups,\n",
        "                privileged_groups=privileged_groups)\n",
        "\n",
        "dataset_transf_train = RW.fit_transform(dataset_orig_train)"
      ],
      "metadata": {
        "id": "uw8op10y5SnQ"
      },
      "execution_count": null,
      "outputs": []
    },
    {
      "cell_type": "markdown",
      "source": [
        "#### Calcular la métrica de equidad en el dataset transformado\n",
        "\n",
        "\"Ahora que tenemos un conjunto de datos transformado, podemos verificar qué tan efectivo fue para eliminar el sesgo usando la misma métrica que usamos para el conjunto de datos de entrenamiento original. Una vez más, usamos la función `mean_difference` en la clase `BinaryLabelDatasetMetric`\". "
      ],
      "metadata": {
        "id": "cE5XWh2vYge4"
      }
    },
    {
      "cell_type": "code",
      "source": [
        "metric_orig_train = BinaryLabelDatasetMetric(dataset_transf_train, \n",
        "                                             unprivileged_groups=unprivileged_groups,\n",
        "                                             privileged_groups=privileged_groups)\n",
        "\n",
        "# Métrica de equidad (mean difference)\n",
        "metric_f_2 = metric_orig_train.mean_difference()\n",
        "\n",
        "display(Markdown(\"#### Dataset de entrenamiento transformado\"))\n",
        "print(\"Diferencia en los resultados medios entre grupos privilegiados y no privilegiados = %f\" % metric_f_2)"
      ],
      "metadata": {
        "colab": {
          "base_uri": "https://localhost:8080/",
          "height": 74
        },
        "id": "Yk1X813LX0B9",
        "outputId": "85917510-9f11-4a3e-b958-193329cce758"
      },
      "execution_count": null,
      "outputs": [
        {
          "output_type": "display_data",
          "data": {
            "text/plain": [
              "<IPython.core.display.Markdown object>"
            ],
            "text/markdown": "#### Dataset de entrenamiento transformado"
          },
          "metadata": {}
        },
        {
          "output_type": "stream",
          "name": "stdout",
          "text": [
            "Diferencia en los resultados medios entre grupos privilegiados y no privilegiados = 0.000000\n"
          ]
        }
      ]
    },
    {
      "cell_type": "markdown",
      "source": [
        "\"Vemos que el paso de mitigación fue muy efectivo, la diferencia en los resultados medios (mean difference) ahora es 0%. Así pasamos de una ventaja de ~17% para el grupo privilegiado a la igualdad en términos de resultados medios\"."
      ],
      "metadata": {
        "id": "dvj1Of5lZJYH"
      }
    },
    {
      "cell_type": "code",
      "source": [],
      "metadata": {
        "id": "fG1whS5vZJlc"
      },
      "execution_count": null,
      "outputs": []
    }
  ]
}