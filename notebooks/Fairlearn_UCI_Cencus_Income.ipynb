{
  "nbformat": 4,
  "nbformat_minor": 0,
  "metadata": {
    "colab": {
      "provenance": []
    },
    "kernelspec": {
      "name": "python3",
      "display_name": "Python 3"
    },
    "language_info": {
      "name": "python"
    }
  },
  "cells": [
    {
      "cell_type": "markdown",
      "source": [
        "### Fairlearn en Colab\n",
        "\n",
        "Este notebook introductorio brinda un ejemplo básico sobre la herramienta Fairlearn de Microsoft. Se usarán funcionalidades especificas con el dataset 'UCI Cencus Income' y se brindarán enlaces para una mayor comprensión.\n",
        "\n",
        "Nota: Fairlearn hace parte del framework [Responsible AI Toolbox](https://github.com/microsoft/responsible-ai-toolbox).\n",
        "\n",
        "* *Para una mayor comprensión de las funcionalidades y definiciones visite esta [Guia](https://fairlearn.org/v0.8/user_guide/index.html)*\n",
        "\n",
        "* *Para más información sobre este notebook visite este [link](https://fairlearn.org/v0.8/quickstart.html)*\n",
        "\n",
        "* *Para más información sobre la herramienta visite este [link](https://fairlearn.org/)*"
      ],
      "metadata": {
        "id": "HXWEucqp_FDh"
      }
    },
    {
      "cell_type": "markdown",
      "source": [
        "#### Librerias"
      ],
      "metadata": {
        "id": "IIuhX8Rs-1K0"
      }
    },
    {
      "cell_type": "code",
      "execution_count": null,
      "metadata": {
        "colab": {
          "base_uri": "https://localhost:8080/"
        },
        "id": "_KJG2jmJ-fVW",
        "outputId": "b0f98126-73c8-4151-c6e0-2aa0ef69f8f1"
      },
      "outputs": [
        {
          "output_type": "stream",
          "name": "stdout",
          "text": [
            "Looking in indexes: https://pypi.org/simple, https://us-python.pkg.dev/colab-wheels/public/simple/\n",
            "Collecting fairlearn\n",
            "  Downloading fairlearn-0.8.0-py3-none-any.whl (235 kB)\n",
            "\u001b[2K     \u001b[90m━━━━━━━━━━━━━━━━━━━━━━━━━━━━━━━━━━━━━━━\u001b[0m \u001b[32m235.0/235.0 KB\u001b[0m \u001b[31m7.5 MB/s\u001b[0m eta \u001b[36m0:00:00\u001b[0m\n",
            "\u001b[?25hRequirement already satisfied: numpy>=1.17.2 in /usr/local/lib/python3.8/dist-packages (from fairlearn) (1.21.6)\n",
            "Requirement already satisfied: pandas>=0.25.1 in /usr/local/lib/python3.8/dist-packages (from fairlearn) (1.3.5)\n",
            "Requirement already satisfied: scipy>=1.4.1 in /usr/local/lib/python3.8/dist-packages (from fairlearn) (1.7.3)\n",
            "Requirement already satisfied: scikit-learn>=0.22.1 in /usr/local/lib/python3.8/dist-packages (from fairlearn) (1.0.2)\n",
            "Requirement already satisfied: python-dateutil>=2.7.3 in /usr/local/lib/python3.8/dist-packages (from pandas>=0.25.1->fairlearn) (2.8.2)\n",
            "Requirement already satisfied: pytz>=2017.3 in /usr/local/lib/python3.8/dist-packages (from pandas>=0.25.1->fairlearn) (2022.7)\n",
            "Requirement already satisfied: joblib>=0.11 in /usr/local/lib/python3.8/dist-packages (from scikit-learn>=0.22.1->fairlearn) (1.2.0)\n",
            "Requirement already satisfied: threadpoolctl>=2.0.0 in /usr/local/lib/python3.8/dist-packages (from scikit-learn>=0.22.1->fairlearn) (3.1.0)\n",
            "Requirement already satisfied: six>=1.5 in /usr/local/lib/python3.8/dist-packages (from python-dateutil>=2.7.3->pandas>=0.25.1->fairlearn) (1.15.0)\n",
            "Installing collected packages: fairlearn\n",
            "Successfully installed fairlearn-0.8.0\n"
          ]
        }
      ],
      "source": [
        "%pip install fairlearn"
      ]
    },
    {
      "cell_type": "code",
      "source": [
        "import numpy as np\n",
        "import pandas as pd\n",
        "import matplotlib.pyplot as plt\n",
        "import seaborn as sns\n",
        "\n",
        "from sklearn.datasets import fetch_openml\n",
        "from sklearn.metrics import accuracy_score, precision_score\n",
        "from sklearn.tree import DecisionTreeClassifier\n",
        "\n",
        "from fairlearn.metrics import MetricFrame, selection_rate, count, false_negative_rate, false_positive_rate\n",
        "from fairlearn.reductions import ExponentiatedGradient, DemographicParity\n",
        "\n",
        "pd.set_option('display.max_columns', None)\n",
        "np.random.seed(0)"
      ],
      "metadata": {
        "id": "_MIntA9F-4_J"
      },
      "execution_count": null,
      "outputs": []
    },
    {
      "cell_type": "markdown",
      "source": [
        "#### Fairlearn"
      ],
      "metadata": {
        "id": "0rkRC5wbAGRz"
      }
    },
    {
      "cell_type": "markdown",
      "source": [
        "El paquete Fairlearn tiene dos componentes:\n",
        "\n",
        "\"*Métricas* para evaluar qué grupos se ven afectados negativamente por un modelo y para comparar varios modelos en términos de varias métricas de equidad y precisión\".\n",
        "\n",
        "\"*Algoritmos* para mitigar la injusticia en una variedad de tareas de IA y a lo largo de una variedad de definiciones de equidad\".\n",
        "\n",
        "* *Para más información sobre la API visite el siguiente [link](https://fairlearn.org/v0.8/api_reference/index.html)*\n"
      ],
      "metadata": {
        "id": "yHVd7K4WAI5a"
      }
    },
    {
      "cell_type": "markdown",
      "source": [
        "#### Dataset\n",
        "\n",
        "El siguiente ejemplo trata sobre la clasificación binaria, pero Fairlearn tambien admite regresión.\n",
        "\n",
        "\"Para este ejemplo, usamos el conjunto de datos [UCI Cencus adult](https://archive.ics.uci.edu/ml/datasets/Adult) donde el objetivo es predecir si una persona gana más (label 1) o menos (label 0) de $50,000 al año\"."
      ],
      "metadata": {
        "id": "wc4irAYJCUUq"
      }
    },
    {
      "cell_type": "code",
      "source": [
        "# Sklearn tiene integrado el repositorio openml\n",
        "data = fetch_openml(data_id=1590, as_frame=True)"
      ],
      "metadata": {
        "id": "WEyG6m1ADXPa"
      },
      "execution_count": null,
      "outputs": []
    },
    {
      "cell_type": "code",
      "source": [
        "data_df = data.data\n",
        "data_df.head()"
      ],
      "metadata": {
        "colab": {
          "base_uri": "https://localhost:8080/",
          "height": 354
        },
        "id": "VlJ_HcVwEXJl",
        "outputId": "62a3bf03-7368-4ebc-d150-1264e0a3743b"
      },
      "execution_count": null,
      "outputs": [
        {
          "output_type": "execute_result",
          "data": {
            "text/plain": [
              "    age  workclass    fnlwgt     education  education-num      marital-status  \\\n",
              "0  25.0    Private  226802.0          11th            7.0       Never-married   \n",
              "1  38.0    Private   89814.0       HS-grad            9.0  Married-civ-spouse   \n",
              "2  28.0  Local-gov  336951.0    Assoc-acdm           12.0  Married-civ-spouse   \n",
              "3  44.0    Private  160323.0  Some-college           10.0  Married-civ-spouse   \n",
              "4  18.0        NaN  103497.0  Some-college           10.0       Never-married   \n",
              "\n",
              "          occupation relationship   race     sex  capital-gain  capital-loss  \\\n",
              "0  Machine-op-inspct    Own-child  Black    Male           0.0           0.0   \n",
              "1    Farming-fishing      Husband  White    Male           0.0           0.0   \n",
              "2    Protective-serv      Husband  White    Male           0.0           0.0   \n",
              "3  Machine-op-inspct      Husband  Black    Male        7688.0           0.0   \n",
              "4                NaN    Own-child  White  Female           0.0           0.0   \n",
              "\n",
              "   hours-per-week native-country  \n",
              "0            40.0  United-States  \n",
              "1            50.0  United-States  \n",
              "2            40.0  United-States  \n",
              "3            40.0  United-States  \n",
              "4            30.0  United-States  "
            ],
            "text/html": [
              "\n",
              "  <div id=\"df-a0da7e5a-9cd3-44fd-a1e1-079c44e16e03\">\n",
              "    <div class=\"colab-df-container\">\n",
              "      <div>\n",
              "<style scoped>\n",
              "    .dataframe tbody tr th:only-of-type {\n",
              "        vertical-align: middle;\n",
              "    }\n",
              "\n",
              "    .dataframe tbody tr th {\n",
              "        vertical-align: top;\n",
              "    }\n",
              "\n",
              "    .dataframe thead th {\n",
              "        text-align: right;\n",
              "    }\n",
              "</style>\n",
              "<table border=\"1\" class=\"dataframe\">\n",
              "  <thead>\n",
              "    <tr style=\"text-align: right;\">\n",
              "      <th></th>\n",
              "      <th>age</th>\n",
              "      <th>workclass</th>\n",
              "      <th>fnlwgt</th>\n",
              "      <th>education</th>\n",
              "      <th>education-num</th>\n",
              "      <th>marital-status</th>\n",
              "      <th>occupation</th>\n",
              "      <th>relationship</th>\n",
              "      <th>race</th>\n",
              "      <th>sex</th>\n",
              "      <th>capital-gain</th>\n",
              "      <th>capital-loss</th>\n",
              "      <th>hours-per-week</th>\n",
              "      <th>native-country</th>\n",
              "    </tr>\n",
              "  </thead>\n",
              "  <tbody>\n",
              "    <tr>\n",
              "      <th>0</th>\n",
              "      <td>25.0</td>\n",
              "      <td>Private</td>\n",
              "      <td>226802.0</td>\n",
              "      <td>11th</td>\n",
              "      <td>7.0</td>\n",
              "      <td>Never-married</td>\n",
              "      <td>Machine-op-inspct</td>\n",
              "      <td>Own-child</td>\n",
              "      <td>Black</td>\n",
              "      <td>Male</td>\n",
              "      <td>0.0</td>\n",
              "      <td>0.0</td>\n",
              "      <td>40.0</td>\n",
              "      <td>United-States</td>\n",
              "    </tr>\n",
              "    <tr>\n",
              "      <th>1</th>\n",
              "      <td>38.0</td>\n",
              "      <td>Private</td>\n",
              "      <td>89814.0</td>\n",
              "      <td>HS-grad</td>\n",
              "      <td>9.0</td>\n",
              "      <td>Married-civ-spouse</td>\n",
              "      <td>Farming-fishing</td>\n",
              "      <td>Husband</td>\n",
              "      <td>White</td>\n",
              "      <td>Male</td>\n",
              "      <td>0.0</td>\n",
              "      <td>0.0</td>\n",
              "      <td>50.0</td>\n",
              "      <td>United-States</td>\n",
              "    </tr>\n",
              "    <tr>\n",
              "      <th>2</th>\n",
              "      <td>28.0</td>\n",
              "      <td>Local-gov</td>\n",
              "      <td>336951.0</td>\n",
              "      <td>Assoc-acdm</td>\n",
              "      <td>12.0</td>\n",
              "      <td>Married-civ-spouse</td>\n",
              "      <td>Protective-serv</td>\n",
              "      <td>Husband</td>\n",
              "      <td>White</td>\n",
              "      <td>Male</td>\n",
              "      <td>0.0</td>\n",
              "      <td>0.0</td>\n",
              "      <td>40.0</td>\n",
              "      <td>United-States</td>\n",
              "    </tr>\n",
              "    <tr>\n",
              "      <th>3</th>\n",
              "      <td>44.0</td>\n",
              "      <td>Private</td>\n",
              "      <td>160323.0</td>\n",
              "      <td>Some-college</td>\n",
              "      <td>10.0</td>\n",
              "      <td>Married-civ-spouse</td>\n",
              "      <td>Machine-op-inspct</td>\n",
              "      <td>Husband</td>\n",
              "      <td>Black</td>\n",
              "      <td>Male</td>\n",
              "      <td>7688.0</td>\n",
              "      <td>0.0</td>\n",
              "      <td>40.0</td>\n",
              "      <td>United-States</td>\n",
              "    </tr>\n",
              "    <tr>\n",
              "      <th>4</th>\n",
              "      <td>18.0</td>\n",
              "      <td>NaN</td>\n",
              "      <td>103497.0</td>\n",
              "      <td>Some-college</td>\n",
              "      <td>10.0</td>\n",
              "      <td>Never-married</td>\n",
              "      <td>NaN</td>\n",
              "      <td>Own-child</td>\n",
              "      <td>White</td>\n",
              "      <td>Female</td>\n",
              "      <td>0.0</td>\n",
              "      <td>0.0</td>\n",
              "      <td>30.0</td>\n",
              "      <td>United-States</td>\n",
              "    </tr>\n",
              "  </tbody>\n",
              "</table>\n",
              "</div>\n",
              "      <button class=\"colab-df-convert\" onclick=\"convertToInteractive('df-a0da7e5a-9cd3-44fd-a1e1-079c44e16e03')\"\n",
              "              title=\"Convert this dataframe to an interactive table.\"\n",
              "              style=\"display:none;\">\n",
              "        \n",
              "  <svg xmlns=\"http://www.w3.org/2000/svg\" height=\"24px\"viewBox=\"0 0 24 24\"\n",
              "       width=\"24px\">\n",
              "    <path d=\"M0 0h24v24H0V0z\" fill=\"none\"/>\n",
              "    <path d=\"M18.56 5.44l.94 2.06.94-2.06 2.06-.94-2.06-.94-.94-2.06-.94 2.06-2.06.94zm-11 1L8.5 8.5l.94-2.06 2.06-.94-2.06-.94L8.5 2.5l-.94 2.06-2.06.94zm10 10l.94 2.06.94-2.06 2.06-.94-2.06-.94-.94-2.06-.94 2.06-2.06.94z\"/><path d=\"M17.41 7.96l-1.37-1.37c-.4-.4-.92-.59-1.43-.59-.52 0-1.04.2-1.43.59L10.3 9.45l-7.72 7.72c-.78.78-.78 2.05 0 2.83L4 21.41c.39.39.9.59 1.41.59.51 0 1.02-.2 1.41-.59l7.78-7.78 2.81-2.81c.8-.78.8-2.07 0-2.86zM5.41 20L4 18.59l7.72-7.72 1.47 1.35L5.41 20z\"/>\n",
              "  </svg>\n",
              "      </button>\n",
              "      \n",
              "  <style>\n",
              "    .colab-df-container {\n",
              "      display:flex;\n",
              "      flex-wrap:wrap;\n",
              "      gap: 12px;\n",
              "    }\n",
              "\n",
              "    .colab-df-convert {\n",
              "      background-color: #E8F0FE;\n",
              "      border: none;\n",
              "      border-radius: 50%;\n",
              "      cursor: pointer;\n",
              "      display: none;\n",
              "      fill: #1967D2;\n",
              "      height: 32px;\n",
              "      padding: 0 0 0 0;\n",
              "      width: 32px;\n",
              "    }\n",
              "\n",
              "    .colab-df-convert:hover {\n",
              "      background-color: #E2EBFA;\n",
              "      box-shadow: 0px 1px 2px rgba(60, 64, 67, 0.3), 0px 1px 3px 1px rgba(60, 64, 67, 0.15);\n",
              "      fill: #174EA6;\n",
              "    }\n",
              "\n",
              "    [theme=dark] .colab-df-convert {\n",
              "      background-color: #3B4455;\n",
              "      fill: #D2E3FC;\n",
              "    }\n",
              "\n",
              "    [theme=dark] .colab-df-convert:hover {\n",
              "      background-color: #434B5C;\n",
              "      box-shadow: 0px 1px 3px 1px rgba(0, 0, 0, 0.15);\n",
              "      filter: drop-shadow(0px 1px 2px rgba(0, 0, 0, 0.3));\n",
              "      fill: #FFFFFF;\n",
              "    }\n",
              "  </style>\n",
              "\n",
              "      <script>\n",
              "        const buttonEl =\n",
              "          document.querySelector('#df-a0da7e5a-9cd3-44fd-a1e1-079c44e16e03 button.colab-df-convert');\n",
              "        buttonEl.style.display =\n",
              "          google.colab.kernel.accessAllowed ? 'block' : 'none';\n",
              "\n",
              "        async function convertToInteractive(key) {\n",
              "          const element = document.querySelector('#df-a0da7e5a-9cd3-44fd-a1e1-079c44e16e03');\n",
              "          const dataTable =\n",
              "            await google.colab.kernel.invokeFunction('convertToInteractive',\n",
              "                                                     [key], {});\n",
              "          if (!dataTable) return;\n",
              "\n",
              "          const docLinkHtml = 'Like what you see? Visit the ' +\n",
              "            '<a target=\"_blank\" href=https://colab.research.google.com/notebooks/data_table.ipynb>data table notebook</a>'\n",
              "            + ' to learn more about interactive tables.';\n",
              "          element.innerHTML = '';\n",
              "          dataTable['output_type'] = 'display_data';\n",
              "          await google.colab.output.renderOutput(dataTable, element);\n",
              "          const docLink = document.createElement('div');\n",
              "          docLink.innerHTML = docLinkHtml;\n",
              "          element.appendChild(docLink);\n",
              "        }\n",
              "      </script>\n",
              "    </div>\n",
              "  </div>\n",
              "  "
            ]
          },
          "metadata": {},
          "execution_count": 55
        }
      ]
    },
    {
      "cell_type": "code",
      "source": [
        "# One-hot encoding de las caracteristicas\n",
        "X = pd.get_dummies(data.data)\n",
        "\n",
        "# Establecer label\n",
        "y_true = (data.target == '>50K') * 1"
      ],
      "metadata": {
        "id": "Op8lVm8wD4x1"
      },
      "execution_count": null,
      "outputs": []
    },
    {
      "cell_type": "code",
      "source": [
        "sex = data.data['sex']\n",
        "print(sex.value_counts())\n",
        "\n",
        "plt.figure()\n",
        "sns.barplot(x=['Male', 'Female'], y=[sex.value_counts()[0], sex.value_counts()[1]])\n",
        "plt.show()"
      ],
      "metadata": {
        "colab": {
          "base_uri": "https://localhost:8080/",
          "height": 317
        },
        "id": "N7HN3esQESXW",
        "outputId": "2ba427ea-102f-4254-bd81-0b569e5efd5e"
      },
      "execution_count": null,
      "outputs": [
        {
          "output_type": "stream",
          "name": "stdout",
          "text": [
            "Male      32650\n",
            "Female    16192\n",
            "Name: sex, dtype: int64\n"
          ]
        },
        {
          "output_type": "display_data",
          "data": {
            "text/plain": [
              "<Figure size 432x288 with 1 Axes>"
            ],
            "image/png": "[encoded data removed]"
          },
          "metadata": {
            "needs_background": "light"
          }
        }
      ]
    },
    {
      "cell_type": "markdown",
      "source": [
        "#### Evaluación de métricas relacionadas con la equidad\n",
        "\n",
        "\"Fairlearn proporciona métricas relacionadas con la equidad que se pueden comparar entre grupos y para la población en general. Usando definiciones de métricas existentes de [`scikit-learn`](https://scikit-learn.org/stable/modules/classes.html#module-sklearn.metrics), podemos evaluar métricas para subgrupos dentro de los datos de la siguiente manera\".\n",
        "\n",
        "Se usará `sex` como característica sensible (`sensitive_features`) para crear los subgrupos."
      ],
      "metadata": {
        "id": "NmdHaEY5IS-5"
      }
    },
    {
      "cell_type": "code",
      "source": [
        "classifier = DecisionTreeClassifier(min_samples_leaf=10, max_depth=4)\n",
        "classifier.fit(X, y_true)"
      ],
      "metadata": {
        "colab": {
          "base_uri": "https://localhost:8080/"
        },
        "id": "1ylDywmQGlis",
        "outputId": "ef3762ba-e1b0-4d4a-d8be-57fa7ed93906"
      },
      "execution_count": null,
      "outputs": [
        {
          "output_type": "execute_result",
          "data": {
            "text/plain": [
              "DecisionTreeClassifier(max_depth=4, min_samples_leaf=10)"
            ]
          },
          "metadata": {},
          "execution_count": 37
        }
      ]
    },
    {
      "cell_type": "code",
      "source": [
        "y_pred = classifier.predict(X)\n",
        "\n",
        "# Métrica accuracy y sensitive_features=sex\n",
        "gm = MetricFrame(metrics=accuracy_score, y_true=y_true, y_pred=y_pred, sensitive_features=sex)\n",
        "\n",
        "print(f'Accuracy general: {gm.overall}')"
      ],
      "metadata": {
        "colab": {
          "base_uri": "https://localhost:8080/"
        },
        "id": "iqaoS8aEI2xC",
        "outputId": "60d48a69-7a1d-4e6a-926c-c8653ce28af5"
      },
      "execution_count": null,
      "outputs": [
        {
          "output_type": "stream",
          "name": "stdout",
          "text": [
            "Accuracy general: 0.8443552680070431\n"
          ]
        }
      ]
    },
    {
      "cell_type": "code",
      "source": [
        "print(f'Accuracy por subgrupos.\\n\\nAccuracy en mujeres: {gm.by_group[0]}\\nAccuracy en hombres: {gm.by_group[1]}')"
      ],
      "metadata": {
        "colab": {
          "base_uri": "https://localhost:8080/"
        },
        "id": "evh6ukdSKGwH",
        "outputId": "3ee5fd07-b1b9-44b2-f745-2cda58e34529"
      },
      "execution_count": null,
      "outputs": [
        {
          "output_type": "stream",
          "name": "stdout",
          "text": [
            "Accuracy por subgrupos.\n",
            "\n",
            "Accuracy en mujeres: 0.9251482213438735\n",
            "Accuracy en hombres: 0.8042879019908117\n"
          ]
        }
      ]
    },
    {
      "cell_type": "markdown",
      "source": [
        "\"Fairlearn tiene muchas otras métricas estándar incorporadas, como la tasa de selección (`selection_rate`), es decir, el porcentaje de la población que tiene '1' como etiqueta\"."
      ],
      "metadata": {
        "id": "apIY4ejkLn4t"
      }
    },
    {
      "cell_type": "code",
      "source": [
        "sr = MetricFrame(metrics=selection_rate, y_true=y_true, y_pred=y_pred, sensitive_features=sex)\n",
        "\n",
        "sr.overall"
      ],
      "metadata": {
        "colab": {
          "base_uri": "https://localhost:8080/"
        },
        "id": "ophVeJCfKPC4",
        "outputId": "823b2f15-1a28-48b9-ed3a-9699e58c5099"
      },
      "execution_count": null,
      "outputs": [
        {
          "output_type": "execute_result",
          "data": {
            "text/plain": [
              "0.16385487899758405"
            ]
          },
          "metadata": {},
          "execution_count": 60
        }
      ]
    },
    {
      "cell_type": "code",
      "source": [
        "sr.by_group"
      ],
      "metadata": {
        "colab": {
          "base_uri": "https://localhost:8080/"
        },
        "id": "D0f28xjRL3gC",
        "outputId": "e352f06e-eaa7-471a-92c3-abf2a140a96d"
      },
      "execution_count": null,
      "outputs": [
        {
          "output_type": "execute_result",
          "data": {
            "text/plain": [
              "sex\n",
              "Female    0.063550\n",
              "Male      0.213599\n",
              "Name: selection_rate, dtype: float64"
            ]
          },
          "metadata": {},
          "execution_count": 61
        }
      ]
    },
    {
      "cell_type": "code",
      "source": [
        "fig = sr.by_group.plot.bar(\n",
        "    legend=False, rot=0, title=\"Fraction earning over $50,000\"\n",
        ")"
      ],
      "metadata": {
        "colab": {
          "base_uri": "https://localhost:8080/",
          "height": 295
        },
        "id": "bEtEBPntMPtV",
        "outputId": "638f3691-29e9-4048-c7ce-1107e304a256"
      },
      "execution_count": null,
      "outputs": [
        {
          "output_type": "display_data",
          "data": {
            "text/plain": [
              "<Figure size 432x288 with 1 Axes>"
            ],
            "image/png": "[encoded data removed]"
          },
          "metadata": {
            "needs_background": "light"
          }
        }
      ]
    },
    {
      "cell_type": "markdown",
      "source": [
        "\"Fairlearn también nos permite trazar rápidamente estas métricas desde el `fairlearn.metrics.MetricFrame`\""
      ],
      "metadata": {
        "id": "HPk4rIOQQfTZ"
      }
    },
    {
      "cell_type": "code",
      "source": [
        "metrics = {\n",
        "    \"accuracy\": accuracy_score,\n",
        "    \"precision\": precision_score,\n",
        "    \"false positive rate\": false_positive_rate,\n",
        "    \"false negative rate\": false_negative_rate,\n",
        "    \"selection rate\": selection_rate,\n",
        "    \"count\": count,\n",
        "}\n",
        "\n",
        "metric_frame = MetricFrame(metrics=metrics, y_true=y_true, y_pred=y_pred, sensitive_features=sex)\n",
        "\n",
        "metric_frame.by_group.plot.bar(subplots=True, layout=[3, 3], legend=False, figsize=[12, 8], title=\"Show all metrics\")"
      ],
      "metadata": {
        "colab": {
          "base_uri": "https://localhost:8080/",
          "height": 601
        },
        "id": "XZ-r-aNhOqgF",
        "outputId": "24308192-d4ca-4130-bdcb-fcb5cc669055"
      },
      "execution_count": null,
      "outputs": [
        {
          "output_type": "execute_result",
          "data": {
            "text/plain": [
              "array([[<matplotlib.axes._subplots.AxesSubplot object at 0x7fa4219a6ee0>,\n",
              "        <matplotlib.axes._subplots.AxesSubplot object at 0x7fa41ee572b0>,\n",
              "        <matplotlib.axes._subplots.AxesSubplot object at 0x7fa41ee744f0>],\n",
              "       [<matplotlib.axes._subplots.AxesSubplot object at 0x7fa421960610>,\n",
              "        <matplotlib.axes._subplots.AxesSubplot object at 0x7fa421910730>,\n",
              "        <matplotlib.axes._subplots.AxesSubplot object at 0x7fa4218bf850>],\n",
              "       [<matplotlib.axes._subplots.AxesSubplot object at 0x7fa42187c850>,\n",
              "        <matplotlib.axes._subplots.AxesSubplot object at 0x7fa42187c940>,\n",
              "        <matplotlib.axes._subplots.AxesSubplot object at 0x7fa4218551c0>]],\n",
              "      dtype=object)"
            ]
          },
          "metadata": {},
          "execution_count": 66
        },
        {
          "output_type": "display_data",
          "data": {
            "text/plain": [
              "<Figure size 864x576 with 9 Axes>"
            ],
            "image/png": "[encoded data removed]"
          },
          "metadata": {
            "needs_background": "light"
          }
        }
      ]
    },
    {
      "cell_type": "markdown",
      "source": [
        "#### Mitigar la disparidad\n",
        "\n",
        "\"Si observamos disparidades entre grupos, es posible que deseemos crear un nuevo modelo mientras especificamos una restricción de equidad adecuada\". \n",
        "\n",
        "\"Tenga en cuenta que la elección de las restricciones de equidad es crucial para el modelo resultante y varía según el contexto de la aplicación. Si la tasa de selección es muy relevante para la equidad en este ejemplo artificial, podemos intentar mitigar la disparidad observada utilizando la restricción de equidad correspondiente denominada Paridad demográfica (`DemographicParity`)\". \n",
        "\n",
        "\"En las aplicaciones del mundo real, debemos tener en cuenta el contexto sociotécnico al tomar tales decisiones. La técnica de mitigación de gradiente exponencial (`ExponentiatedGradient`) utilizada se ajusta al clasificador proporcionado utilizando la paridad demográfica como objetivo, lo que lleva a una diferencia muy reducida en la tasa de selección ('selection rate')\"."
      ],
      "metadata": {
        "id": "LfYTae85XbZ5"
      }
    },
    {
      "cell_type": "code",
      "source": [
        "constraint = DemographicParity() # restricción de equidad\n",
        "classifier = DecisionTreeClassifier(min_samples_leaf=10, max_depth=4)\n",
        "mitigator = ExponentiatedGradient(classifier, constraint) # técnica de mitigación de gradiente exponencial\n",
        "mitigator.fit(X, y_true, sensitive_features=sex)"
      ],
      "metadata": {
        "colab": {
          "base_uri": "https://localhost:8080/"
        },
        "id": "VvWARjDVRK0c",
        "outputId": "e7f17035-c9f6-4396-d8a4-4caca2a5ee30"
      },
      "execution_count": null,
      "outputs": [
        {
          "output_type": "execute_result",
          "data": {
            "text/plain": [
              "ExponentiatedGradient(constraints=<fairlearn.reductions._moments.utility_parity.DemographicParity object at 0x7fa41edbc370>,\n",
              "                      estimator=DecisionTreeClassifier(max_depth=4,\n",
              "                                                       min_samples_leaf=10),\n",
              "                      nu=0.0008201769357601916)"
            ]
          },
          "metadata": {},
          "execution_count": 69
        }
      ]
    },
    {
      "cell_type": "code",
      "source": [
        "y_pred_mitigated = mitigator.predict(X)"
      ],
      "metadata": {
        "id": "sUeo7JpQYozY"
      },
      "execution_count": null,
      "outputs": []
    },
    {
      "cell_type": "code",
      "source": [
        "sr_mitigated = MetricFrame(metrics=selection_rate, y_true=y_true, y_pred=y_pred_mitigated, sensitive_features=sex)\n",
        "print(sr_mitigated.overall)"
      ],
      "metadata": {
        "colab": {
          "base_uri": "https://localhost:8080/"
        },
        "id": "pY8h7k0VYwNv",
        "outputId": "d8f293d4-e11d-48c6-dacf-7b6ecab142d8"
      },
      "execution_count": null,
      "outputs": [
        {
          "output_type": "stream",
          "name": "stdout",
          "text": [
            "0.16614798738790384\n"
          ]
        }
      ]
    },
    {
      "cell_type": "code",
      "source": [
        "print(sr_mitigated.by_group)"
      ],
      "metadata": {
        "colab": {
          "base_uri": "https://localhost:8080/"
        },
        "id": "almDdqKqYwg_",
        "outputId": "c76b4612-b144-41b4-d029-639cfc0efbe2"
      },
      "execution_count": null,
      "outputs": [
        {
          "output_type": "stream",
          "name": "stdout",
          "text": [
            "sex\n",
            "Female    0.155262\n",
            "Male      0.171547\n",
            "Name: selection_rate, dtype: float64\n"
          ]
        }
      ]
    }
  ]
}