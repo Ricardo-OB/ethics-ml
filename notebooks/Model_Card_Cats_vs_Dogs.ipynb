{
  "cells": [
    {
      "cell_type": "markdown",
      "metadata": {
        "id": "Tce3stUlHN0L"
      },
      "source": [
        "##### Copyright 2020 The TensorFlow Authors."
      ]
    },
    {
      "cell_type": "code",
      "execution_count": null,
      "metadata": {
        "cellView": "form",
        "id": "tuOe1ymfHZPu"
      },
      "outputs": [],
      "source": [
        "#@title Licensed under the Apache License, Version 2.0 (the \"License\");\n",
        "# you may not use this file except in compliance with the License.\n",
        "# You may obtain a copy of the License at\n",
        "#\n",
        "# https://www.apache.org/licenses/LICENSE-2.0\n",
        "#\n",
        "# Unless required by applicable law or agreed to in writing, software\n",
        "# distributed under the License is distributed on an \"AS IS\" BASIS,\n",
        "# WITHOUT WARRANTIES OR CONDITIONS OF ANY KIND, either express or implied.\n",
        "# See the License for the specific language governing permissions and\n",
        "# limitations under the License."
      ]
    },
    {
      "cell_type": "markdown",
      "metadata": {
        "id": "23R0Z9RojXYW"
      },
      "source": [
        "# Standalone Model Card Toolkit Demo\n",
        "\n",
        "This \"standalone\" notebook demonstrates using the Model Card Toolkit without the TFX/MLMD context. To learn how to use Model Card Toolkit with TFX/MLMD, please check [MLMD Model Card Toolkit Demo](./MLMD_Model_Card_Toolkit_Demo.ipynb)."
      ]
    },
    {
      "cell_type": "markdown",
      "metadata": {
        "id": "MfBg1C5NB3X0"
      },
      "source": [
        "<table class=\"tfo-notebook-buttons\" align=\"left\">\n",
        "  <td>\n",
        "    <a target=\"_blank\" href=\"https://www.tensorflow.org/responsible_ai/model_card_toolkit/examples/Standalone_Model_Card_Toolkit_Demo\"><img src=\"https://www.tensorflow.org/images/tf_logo_32px.png\" />View on TensorFlow.org</a>\n",
        "  </td>\n",
        "  <td>\n",
        "    <a target=\"_blank\" href=\"https://colab.research.google.com/github/tensorflow/model-card-toolkit/blob/master/model_card_toolkit/documentation/examples/Standalone_Model_Card_Toolkit_Demo.ipynb\"><img src=\"https://www.tensorflow.org/images/colab_logo_32px.png\" />Run in Google Colab</a>\n",
        "  </td>\n",
        "  <td>\n",
        "    <a target=\"_blank\" href=\"https://github.com/tensorflow/model-card-toolkit/blob/master/model_card_toolkit/documentation/examples/Standalone_Model_Card_Toolkit_Demo.ipynb\"><img src=\"https://www.tensorflow.org/images/GitHub-Mark-32px.png\" />View on GitHub</a>\n",
        "  </td>\n",
        "  <td>\n",
        "    <a href=\"https://storage.googleapis.com/tensorflow_docs/model-card-toolkit/model_card_toolkit/documentation/examples/Standalone_Model_Card_Toolkit_Demo.ipynb\"><img src=\"https://www.tensorflow.org/images/download_logo_32px.png\" />Download notebook</a>\n",
        "  </td>\n",
        "</table>"
      ]
    },
    {
      "cell_type": "markdown",
      "metadata": {
        "id": "sfSQ-kX-MLEr"
      },
      "source": [
        "## Objective\n",
        "\n",
        "This notebook demonstrates how to generate a Model Card using the Model Card Toolkit in a Jupyter/Colab environment. You can learn more about model cards at https://modelcards.withgoogle.com/about. \n",
        "\n",
        "We are using a Keras model in this demo. But the logic below also applies to other ML frameworks in general.\n",
        "\n"
      ]
    },
    {
      "cell_type": "markdown",
      "metadata": {
        "id": "2GivNBNYjb3b"
      },
      "source": [
        "## Setup\n",
        "We first need to a) install and import the necessary packages, and b) download the data."
      ]
    },
    {
      "cell_type": "markdown",
      "metadata": {
        "id": "Fmgi8ZvQkScg"
      },
      "source": [
        "### Upgrade to Pip and install the Model Card Toolkit"
      ]
    },
    {
      "cell_type": "code",
      "execution_count": null,
      "metadata": {
        "id": "as4OTe2ukSqm",
        "colab": {
          "base_uri": "https://localhost:8080/"
        },
        "outputId": "af775a74-c660-4f18-e7be-359c4905c62b"
      },
      "outputs": [
        {
          "output_type": "stream",
          "name": "stdout",
          "text": [
            "Looking in indexes: https://pypi.org/simple, https://us-python.pkg.dev/colab-wheels/public/simple/\n",
            "Collecting pip==21.3\n",
            "  Downloading pip-21.3-py3-none-any.whl (1.7 MB)\n",
            "\u001b[K     |████████████████████████████████| 1.7 MB 8.8 MB/s \n",
            "\u001b[?25hInstalling collected packages: pip\n",
            "  Attempting uninstall: pip\n",
            "    Found existing installation: pip 21.1.3\n",
            "    Uninstalling pip-21.1.3:\n",
            "      Successfully uninstalled pip-21.1.3\n",
            "Successfully installed pip-21.3\n"
          ]
        }
      ],
      "source": [
        "!pip install --upgrade pip==21.3"
      ]
    },
    {
      "cell_type": "code",
      "source": [
        "!pip install -q model-card-toolkit"
      ],
      "metadata": {
        "id": "5hi26GJdrIOz",
        "colab": {
          "base_uri": "https://localhost:8080/"
        },
        "outputId": "50378917-be94-4eb3-e924-81c3af18c873"
      },
      "execution_count": null,
      "outputs": [
        {
          "output_type": "stream",
          "name": "stdout",
          "text": [
            "     |████████████████████████████████| 79 kB 4.2 MB/s             \n",
            "     |████████████████████████████████| 56 kB 3.8 MB/s             \n",
            "     |████████████████████████████████| 133 kB 50.2 MB/s            \n",
            "     |████████████████████████████████| 48 kB 4.4 MB/s             \n",
            "     |████████████████████████████████| 1.8 MB 47.2 MB/s            \n",
            "     |████████████████████████████████| 2.4 MB 37.5 MB/s            \n",
            "     |████████████████████████████████| 6.6 MB 26.8 MB/s            \n",
            "     |████████████████████████████████| 49 kB 3.0 MB/s             \n",
            "     |████████████████████████████████| 129 kB 47.9 MB/s            \n",
            "     |████████████████████████████████| 19.1 MB 296 kB/s             \n",
            "     |████████████████████████████████| 14.8 MB 28.0 MB/s            \n",
            "     |████████████████████████████████| 23.6 MB 39.5 MB/s            \n",
            "     |████████████████████████████████| 793 kB 45.9 MB/s            \n",
            "     |████████████████████████████████| 10.3 MB 39.4 MB/s            \n",
            "     |████████████████████████████████| 133 kB 15.4 MB/s            \n",
            "     |████████████████████████████████| 422 kB 42.6 MB/s            \n",
            "     | 671.4 MB 373 kB/s \n",
            "     |████████████████████████████████| 1.8 MB 51.6 MB/s            \n",
            "     |████████████████████████████████| 1.7 MB 44.5 MB/s            \n",
            "     |████████████████████████████████| 206 kB 52.7 MB/s            \n",
            "     |████████████████████████████████| 135 kB 41.3 MB/s            \n",
            "     |████████████████████████████████| 1.4 MB 45.6 MB/s            \n",
            "     |████████████████████████████████| 147 kB 55.3 MB/s            \n",
            "     |████████████████████████████████| 1.2 MB 48.8 MB/s            \n",
            "     |████████████████████████████████| 40 kB 4.8 MB/s             \n",
            "     |████████████████████████████████| 508 kB 48.7 MB/s            \n",
            "     |████████████████████████████████| 151 kB 56.0 MB/s            \n",
            "\u001b[?25h  Preparing metadata (setup.py) ... \u001b[?25l\u001b[?25hdone\n",
            "     |████████████████████████████████| 256 kB 64.5 MB/s            \n",
            "     |████████████████████████████████| 63 kB 1.5 MB/s             \n",
            "     |████████████████████████████████| 46 kB 3.6 MB/s             \n",
            "     |████████████████████████████████| 2.3 MB 39.2 MB/s            \n",
            "     |████████████████████████████████| 180 kB 55.0 MB/s            \n",
            "     |████████████████████████████████| 265 kB 55.3 MB/s            \n",
            "     |████████████████████████████████| 180 kB 56.0 MB/s            \n",
            "     |████████████████████████████████| 233 kB 54.8 MB/s            \n",
            "     |████████████████████████████████| 118 kB 49.5 MB/s            \n",
            "     |████████████████████████████████| 83 kB 1.9 MB/s             \n",
            "     |████████████████████████████████| 255 kB 5.2 MB/s            \n",
            "     |████████████████████████████████| 267 kB 54.7 MB/s            \n",
            "     |████████████████████████████████| 435 kB 63.6 MB/s            \n",
            "     |████████████████████████████████| 183 kB 65.8 MB/s            \n",
            "     |████████████████████████████████| 173 kB 67.5 MB/s            \n",
            "\u001b[?25h  Preparing metadata (setup.py) ... \u001b[?25l\u001b[?25hdone\n",
            "     |████████████████████████████████| 54 kB 2.4 MB/s             \n",
            "     |████████████████████████████████| 230 kB 64.4 MB/s            \n",
            "     |████████████████████████████████| 107 kB 69.3 MB/s            \n",
            "     |████████████████████████████████| 76 kB 5.0 MB/s             \n",
            "     |████████████████████████████████| 381 kB 51.1 MB/s            \n",
            "     |████████████████████████████████| 1.3 MB 45.7 MB/s            \n",
            "     |████████████████████████████████| 463 kB 51.8 MB/s            \n",
            "     |████████████████████████████████| 294 kB 31.8 MB/s            \n",
            "     |████████████████████████████████| 107 kB 53.6 MB/s            \n",
            "     |████████████████████████████████| 1.1 MB 54.1 MB/s            \n",
            "\u001b[?25h  Building wheel for google-apitools (setup.py) ... \u001b[?25l\u001b[?25hdone\n",
            "  Building wheel for dill (setup.py) ... \u001b[?25l\u001b[?25hdone\n",
            "\u001b[31mERROR: pip's dependency resolver does not currently take into account all the packages that are installed. This behaviour is the source of the following dependency conflicts.\n",
            "xarray-einstats 0.2.2 requires numpy>=1.21, but you have numpy 1.19.5 which is incompatible.\n",
            "pandas-gbq 0.13.3 requires google-cloud-bigquery[bqstorage,pandas]<2.0.0dev,>=1.11.1, but you have google-cloud-bigquery 2.34.3 which is incompatible.\n",
            "nbclient 0.6.4 requires jupyter-client>=6.1.5, but you have jupyter-client 5.3.5 which is incompatible.\n",
            "nbclient 0.6.4 requires traitlets>=5.2.2, but you have traitlets 5.1.1 which is incompatible.\n",
            "multiprocess 0.70.13 requires dill>=0.3.5.1, but you have dill 0.3.1.1 which is incompatible.\n",
            "jupyter-console 5.2.0 requires prompt-toolkit<2.0.0,>=1.0.0, but you have prompt-toolkit 3.0.29 which is incompatible.\n",
            "gym 0.17.3 requires cloudpickle<1.7.0,>=1.2.0, but you have cloudpickle 2.1.0 which is incompatible.\n",
            "google-colab 1.0.0 requires ipython~=5.5.0, but you have ipython 7.34.0 which is incompatible.\n",
            "google-colab 1.0.0 requires requests~=2.23.0, but you have requests 2.27.1 which is incompatible.\n",
            "flask 1.1.4 requires Jinja2<3.0,>=2.10.1, but you have jinja2 3.1.2 which is incompatible.\n",
            "datascience 0.10.6 requires folium==0.2.1, but you have folium 0.8.3 which is incompatible.\n",
            "albumentations 0.1.12 requires imgaug<0.2.7,>=0.2.5, but you have imgaug 0.2.9 which is incompatible.\u001b[0m\n",
            "\u001b[33mWARNING: Running pip as the 'root' user can result in broken permissions and conflicting behaviour with the system package manager. It is recommended to use a virtual environment instead: https://pip.pypa.io/warnings/venv\u001b[0m\n"
          ]
        }
      ]
    },
    {
      "cell_type": "markdown",
      "metadata": {
        "id": "EwT0nov5QO1M"
      },
      "source": [
        "#### Reiniciar el entorno de ejecución (*runtime*)"
      ]
    },
    {
      "cell_type": "markdown",
      "metadata": {
        "id": "7-JNjw8eUdrL"
      },
      "source": [
        "### Imports"
      ]
    },
    {
      "cell_type": "code",
      "execution_count": null,
      "metadata": {
        "id": "Nx4sE8cUUhF-"
      },
      "outputs": [],
      "source": [
        "import tensorflow as tf\n",
        "import numpy as np\n",
        "import model_card_toolkit as mctlib\n",
        "from model_card_toolkit.documentation.examples import cats_vs_dogs\n",
        "from model_card_toolkit.utils.graphics import figure_to_base64str\n",
        "import tempfile\n",
        "import matplotlib.pyplot as plt\n",
        "from IPython import display\n",
        "import requests\n",
        "import zipfile\n",
        "import os"
      ]
    },
    {
      "cell_type": "code",
      "source": [
        "tf.__version__"
      ],
      "metadata": {
        "colab": {
          "base_uri": "https://localhost:8080/",
          "height": 35
        },
        "id": "rQESAkVqXWrn",
        "outputId": "040626e2-7d9f-46ac-a89f-b0a9f42d72e6"
      },
      "execution_count": null,
      "outputs": [
        {
          "output_type": "execute_result",
          "data": {
            "text/plain": [
              "'2.7.1'"
            ],
            "application/vnd.google.colaboratory.intrinsic+json": {
              "type": "string"
            }
          },
          "metadata": {},
          "execution_count": 5
        }
      ]
    },
    {
      "cell_type": "markdown",
      "metadata": {
        "id": "jzNHy94JjfEJ"
      },
      "source": [
        "## Model"
      ]
    },
    {
      "cell_type": "markdown",
      "metadata": {
        "id": "u7UTf5FqXeQd"
      },
      "source": [
        "We will use a pretrained model with architecture based off [MobileNetV2](https://arxiv.org/abs/1801.04381), a popular 16-layer image classification model. Our model has been trained to distinguish between betweens cats and dogs using the [Cats vs Dogs](https://www.tensorflow.org/datasets/catalog/cats_vs_dogs) dataset. The model training was based on the [TensorFlow transfer learning tutorial](https://www.tensorflow.org/tutorials/images/transfer_learning). "
      ]
    },
    {
      "cell_type": "code",
      "source": [
        "!wget 'https://storage.googleapis.com/cats_vs_dogs_model/cats_vs_dogs_model.zip'"
      ],
      "metadata": {
        "colab": {
          "base_uri": "https://localhost:8080/"
        },
        "id": "hW3gFRsTWCbw",
        "outputId": "d29d6b31-1c4a-4356-c547-d9fe24c38c51"
      },
      "execution_count": null,
      "outputs": [
        {
          "output_type": "stream",
          "name": "stdout",
          "text": [
            "--2022-04-11 00:31:55--  https://storage.googleapis.com/cats_vs_dogs_model/cats_vs_dogs_model.zip\n",
            "Resolving storage.googleapis.com (storage.googleapis.com)... 108.177.97.128, 108.177.125.128, 142.250.157.128, ...\n",
            "Connecting to storage.googleapis.com (storage.googleapis.com)|108.177.97.128|:443... connected.\n",
            "HTTP request sent, awaiting response... 200 OK\n",
            "Length: 8743339 (8.3M) [application/zip]\n",
            "Saving to: ‘cats_vs_dogs_model.zip’\n",
            "\n",
            "cats_vs_dogs_model. 100%[===================>]   8.34M  18.1MB/s    in 0.5s    \n",
            "\n",
            "2022-04-11 00:31:57 (18.1 MB/s) - ‘cats_vs_dogs_model.zip’ saved [8743339/8743339]\n",
            "\n"
          ]
        }
      ]
    },
    {
      "cell_type": "markdown",
      "source": [
        "Carga del modelo"
      ],
      "metadata": {
        "id": "hG92Hez9T8cC"
      }
    },
    {
      "cell_type": "code",
      "source": [
        "!mkdir /content/model"
      ],
      "metadata": {
        "id": "fjqeUpR_SlJl"
      },
      "execution_count": null,
      "outputs": []
    },
    {
      "cell_type": "code",
      "source": [
        "# Crear carpeta temporal para base de datos (opcional)\n",
        "#BASE_PATH = tempfile.mkdtemp()\n",
        "\n",
        "ZIP_PATH = os.path.join('/content/cats_vs_dogs_model.zip')\n",
        "MODEL_PATH = os.path.join('/content/cats_vs_dogs_model')"
      ],
      "metadata": {
        "id": "s6GfJLEWWRCT"
      },
      "execution_count": null,
      "outputs": []
    },
    {
      "cell_type": "code",
      "source": [
        "with zipfile.ZipFile(ZIP_PATH, 'r') as zip_ref:\n",
        "    zip_ref.extractall('/content/model')"
      ],
      "metadata": {
        "id": "cZUXF_FaXCT0"
      },
      "execution_count": null,
      "outputs": []
    },
    {
      "cell_type": "code",
      "execution_count": null,
      "metadata": {
        "id": "TJzHu_ZQCJ_z",
        "colab": {
          "base_uri": "https://localhost:8080/"
        },
        "outputId": "f3a8da80-6f0c-4153-9110-1c09cbbc8166"
      },
      "outputs": [
        {
          "output_type": "stream",
          "name": "stdout",
          "text": [
            "WARNING:tensorflow:SavedModel saved prior to TF 2.5 detected when loading Keras model. Please ensure that you are saving the model with model.save() or tf.keras.models.save_model(), *NOT* tf.saved_model.save(). To confirm, there should be a file named \"keras_metadata.pb\" in the SavedModel directory.\n"
          ]
        },
        {
          "output_type": "stream",
          "name": "stderr",
          "text": [
            "WARNING:tensorflow:SavedModel saved prior to TF 2.5 detected when loading Keras model. Please ensure that you are saving the model with model.save() or tf.keras.models.save_model(), *NOT* tf.saved_model.save(). To confirm, there should be a file named \"keras_metadata.pb\" in the SavedModel directory.\n"
          ]
        }
      ],
      "source": [
        "model = tf.keras.models.load_model('/content/model/cats_vs_dogs_model')"
      ]
    },
    {
      "cell_type": "code",
      "source": [
        "model.summary()"
      ],
      "metadata": {
        "colab": {
          "base_uri": "https://localhost:8080/"
        },
        "id": "ZS7s_UElS9bl",
        "outputId": "7293cf1c-6b10-458c-c808-64f4e16d5d5c"
      },
      "execution_count": null,
      "outputs": [
        {
          "output_type": "stream",
          "name": "stdout",
          "text": [
            "Model: \"functional_1\"\n",
            "_________________________________________________________________\n",
            " Layer (type)                Output Shape              Param #   \n",
            "=================================================================\n",
            " input_2 (InputLayer)        [(None, 150, 150, 3)]     0         \n",
            "                                                                 \n",
            " sequential (Sequential)     (None, 150, 150, 3)       0         \n",
            "                                                                 \n",
            " normalization (Normalizatio  (None, 150, 150, 3)      7         \n",
            " n)                                                              \n",
            "                                                                 \n",
            " mobilenetv2_1.00_224 (Funct  (None, 5, 5, 1280)       2257984   \n",
            " ional)                                                          \n",
            "                                                                 \n",
            " global_average_pooling2d (G  (None, 1280)             0         \n",
            " lobalAveragePooling2D)                                          \n",
            "                                                                 \n",
            " dropout (Dropout)           (None, 1280)              0         \n",
            "                                                                 \n",
            " dense (Dense)               (None, 1)                 1281      \n",
            "                                                                 \n",
            "=================================================================\n",
            "Total params: 2,259,272\n",
            "Trainable params: 1,281\n",
            "Non-trainable params: 2,257,991\n",
            "_________________________________________________________________\n"
          ]
        }
      ]
    },
    {
      "cell_type": "markdown",
      "metadata": {
        "id": "7SUMYXTM3Cch"
      },
      "source": [
        "## Dataset"
      ]
    },
    {
      "cell_type": "markdown",
      "metadata": {
        "id": "5ABTI039kuEn"
      },
      "source": [
        "In the cats-vs-dogs dataset, label=0 corresponds to cats while label=1 corresponds to dogs."
      ]
    },
    {
      "cell_type": "code",
      "execution_count": null,
      "metadata": {
        "id": "qxzLef3Z6c4c"
      },
      "outputs": [],
      "source": [
        "def compute_accuracy(data):\n",
        "  x = np.stack(data['examples'])\n",
        "  y = np.asarray(data['labels'])\n",
        "  _, metric = model.evaluate(x, y)\n",
        "  return metric"
      ]
    },
    {
      "cell_type": "markdown",
      "source": [
        "Carga de los datos (tomados de la libreria model_card_toolkit)"
      ],
      "metadata": {
        "id": "0mgqDxbvUAil"
      }
    },
    {
      "cell_type": "code",
      "source": [
        "examples = cats_vs_dogs.get_data()"
      ],
      "metadata": {
        "colab": {
          "base_uri": "https://localhost:8080/",
          "height": 237,
          "referenced_widgets": [
            "78a01b0221ac4dd993d7c6faab7719eb",
            "6130722caa7b4ddeb40972c1332179e0",
            "8ea5a7b487fc49ed9c68a758302baaec",
            "3250ce795e6c4c7c9fba6ec77bf8a006",
            "05ff40a1f22f427d8ae65ec72210e181",
            "2bdea0bd12fb4df18c8a4b5c4180d3bf",
            "50727301ac4b4bd995eb78bc2f9faadf",
            "4f2109b22eab49e0b2cbbd580a33a6b8",
            "51b9ad6b0a1a4feca500d5f1f34578f2",
            "b26badc7e45e4cc99da3d2b5a6f6524b",
            "feff0b8cd130467eadeb6cc9b4c09faa",
            "ded5b2c68a1a4a4cac390cdff9f01b96",
            "bf889501b2294084bf9f3c42d524fce6",
            "7f490cf06e7241c3a8479d58a7761693",
            "57c57fc0aca54c3fa68ea7e2814b8670",
            "cfa7f63c2b4d467d818c945c6a08e543",
            "d0ba456c11cd4ddc91c1fa1f7bfe5227",
            "5971db228204458a8da1cda7094a424a",
            "e0235a950ef84308abbc242644aba849",
            "59def52df7f2468aa5d3408875ce8e6e",
            "1f6e390f9c5440d7bde35fe8bf60579d",
            "71287bcd7bc34f6ebea3045f6e83f73e",
            "7e8e44a5674740639f173753645c20f2",
            "57cd79941ef54c72b2e261d87fa612da",
            "b8357dd89112477e8d829957e99e66ef",
            "0ba937eb4b0e4b88b168f0ba6d576408",
            "f02ce449f2f447c7aafdab1adc3f0a78",
            "31a633d967634c46885b28befbdcfcd2",
            "708b9686526d4c66ace87a82817c7aac",
            "f8811584ab744894aad0685b61683b4b",
            "bb60f42d18c64d41816ba7d387bc3c08",
            "946e45009a1340bf82478cfcae086845",
            "a1b08511b0d049f7abd6e25cb3fa128a",
            "6d2c0ad5d5de4b748732c21794193667",
            "54db9e6b38df4fb49db484de135a81aa",
            "bc13766f477845a6a1ea07aba1d232bd",
            "1afb27fc0d2941f9a58a2bda1a9b0e22",
            "5dbd55fd224a4f5597d4d25c50a56282",
            "a5162ba99cfe4d7e91734459c22f40b4",
            "d18f392a5b6a4dafa0d6854bbb76f2f8",
            "6b524839bd6842088482513c5a0aad8a",
            "df88ad1d55684e80aa7455ccb9f2ccba",
            "862f8f26c78a45558a852087588b96c6",
            "2ede2bfbca914c60a80d698e63b5f012"
          ]
        },
        "id": "56jo8wkBT368",
        "outputId": "3ee02464-34ab-4980-97f0-8cc8da97732f"
      },
      "execution_count": null,
      "outputs": [
        {
          "output_type": "stream",
          "name": "stdout",
          "text": [
            "\u001b[1mDownloading and preparing dataset cats_vs_dogs/4.0.0 (download: 786.68 MiB, generated: Unknown size, total: 786.68 MiB) to /root/tensorflow_datasets/cats_vs_dogs/4.0.0...\u001b[0m\n"
          ]
        },
        {
          "output_type": "display_data",
          "data": {
            "text/plain": [
              "Dl Completed...: 0 url [00:00, ? url/s]"
            ],
            "application/vnd.jupyter.widget-view+json": {
              "version_major": 2,
              "version_minor": 0,
              "model_id": "78a01b0221ac4dd993d7c6faab7719eb"
            }
          },
          "metadata": {}
        },
        {
          "output_type": "display_data",
          "data": {
            "text/plain": [
              "Dl Size...: 0 MiB [00:00, ? MiB/s]"
            ],
            "application/vnd.jupyter.widget-view+json": {
              "version_major": 2,
              "version_minor": 0,
              "model_id": "ded5b2c68a1a4a4cac390cdff9f01b96"
            }
          },
          "metadata": {}
        },
        {
          "output_type": "stream",
          "name": "stdout",
          "text": [
            "\n",
            "\n"
          ]
        },
        {
          "output_type": "display_data",
          "data": {
            "text/plain": [
              "0 examples [00:00, ? examples/s]"
            ],
            "application/vnd.jupyter.widget-view+json": {
              "version_major": 2,
              "version_minor": 0,
              "model_id": "7e8e44a5674740639f173753645c20f2"
            }
          },
          "metadata": {}
        },
        {
          "output_type": "stream",
          "name": "stderr",
          "text": [
            "WARNING:absl:1738 images were corrupted and were skipped\n"
          ]
        },
        {
          "output_type": "stream",
          "name": "stdout",
          "text": [
            "Shuffling and writing examples to /root/tensorflow_datasets/cats_vs_dogs/4.0.0.incomplete9CECNH/cats_vs_dogs-train.tfrecord\n"
          ]
        },
        {
          "output_type": "display_data",
          "data": {
            "text/plain": [
              "  0%|          | 0/23262 [00:00<?, ? examples/s]"
            ],
            "application/vnd.jupyter.widget-view+json": {
              "version_major": 2,
              "version_minor": 0,
              "model_id": "6d2c0ad5d5de4b748732c21794193667"
            }
          },
          "metadata": {}
        },
        {
          "output_type": "stream",
          "name": "stdout",
          "text": [
            "\u001b[1mDataset cats_vs_dogs downloaded and prepared to /root/tensorflow_datasets/cats_vs_dogs/4.0.0. Subsequent calls will reuse this data.\u001b[0m\n"
          ]
        }
      ]
    },
    {
      "cell_type": "code",
      "source": [
        "for key, value in examples.items():\n",
        "    print(key)\n",
        "    for key_1, value_1 in examples[key].items():\n",
        "        print('|____',key_1, np.shape(value_1))"
      ],
      "metadata": {
        "colab": {
          "base_uri": "https://localhost:8080/"
        },
        "id": "f-T-JeoMT1Aq",
        "outputId": "2cd1fda9-03a9-48d7-f956-61bfd0be5467"
      },
      "execution_count": null,
      "outputs": [
        {
          "output_type": "stream",
          "name": "stdout",
          "text": [
            "combined\n",
            "|____ examples (320, 150, 150, 3)\n",
            "|____ labels (320,)\n",
            "cat\n",
            "|____ examples (149, 150, 150, 3)\n",
            "|____ labels (149,)\n",
            "dog\n",
            "|____ examples (171, 150, 150, 3)\n",
            "|____ labels (171,)\n"
          ]
        }
      ]
    },
    {
      "cell_type": "code",
      "execution_count": null,
      "metadata": {
        "id": "CZpI3nR-NRza",
        "colab": {
          "base_uri": "https://localhost:8080/"
        },
        "outputId": "1770d62f-0982-4d77-c8ef-b1516f44fb91"
      },
      "outputs": [
        {
          "output_type": "stream",
          "name": "stdout",
          "text": [
            "num validation examples: 320\n",
            "num cat examples: 149\n",
            "num dog examples: 171\n"
          ]
        }
      ],
      "source": [
        "print('num validation examples:', len(examples['combined']['examples']))\n",
        "print('num cat examples:', len(examples['cat']['examples']))\n",
        "print('num dog examples:', len(examples['dog']['examples']))"
      ]
    },
    {
      "cell_type": "code",
      "execution_count": null,
      "metadata": {
        "id": "1pra-P9ZkZ1N",
        "colab": {
          "base_uri": "https://localhost:8080/"
        },
        "outputId": "b38dcc92-34bc-463a-d702-c4105037eefd"
      },
      "outputs": [
        {
          "output_type": "stream",
          "name": "stdout",
          "text": [
            "10/10 [==============================] - 6s 471ms/step - loss: 0.0794 - binary_accuracy: 0.9812\n",
            "5/5 [==============================] - 3s 426ms/step - loss: 0.0608 - binary_accuracy: 0.9933\n",
            "6/6 [==============================] - 3s 402ms/step - loss: 0.0956 - binary_accuracy: 0.9708\n"
          ]
        }
      ],
      "source": [
        "accuracy = compute_accuracy(examples['combined'])\n",
        "cat_accuracy = compute_accuracy(examples['cat'])\n",
        "dog_accuracy = compute_accuracy(examples['dog'])"
      ]
    },
    {
      "cell_type": "markdown",
      "metadata": {
        "id": "sYM7Tnrf7Ffr"
      },
      "source": [
        "## Use the Model Card Toolkit"
      ]
    },
    {
      "cell_type": "markdown",
      "metadata": {
        "id": "nFZ4VJ2HR8BH"
      },
      "source": [
        "### Initialize the Model Card Toolkit\n",
        "\n",
        "The first step is to initialize a `ModelCardToolkit` object, which maintains assets including a [model card JSON file](https://github.com/tensorflow/model-card-toolkit/tree/master/model_card_toolkit/schema/) and [model card document](https://github.com/tensorflow/model-card-toolkit/tree/master/model_card_toolkit/template). Call `ModelCardToolkit.scaffold_assets()` to generate these assets and return a `ModelCard` object."
      ]
    },
    {
      "cell_type": "markdown",
      "source": [
        "El primer paso es inicializar un objeto `ModelCardToolkit`, que mantiene activos un archivo JSON de Model Card y un documento/plantilla de Model Card. Al llamar el objeto `ModelCardToolkit.scaffold_assets()` se generan estos activos y devuelve un objeto `ModelCard`."
      ],
      "metadata": {
        "id": "8FOl4mjAYdMW"
      }
    },
    {
      "cell_type": "markdown",
      "source": [
        "https://github.com/tensorflow/model-card-toolkit/blob/master/model_card_toolkit/model_card_toolkit.py\n",
        "\n",
        "https://github.com/tensorflow/model-card-toolkit/blob/master/model_card_toolkit/model_card.py"
      ],
      "metadata": {
        "id": "S1z0c8XZ5Flt"
      }
    },
    {
      "cell_type": "code",
      "source": [
        "!mkdir /content/model_card_files"
      ],
      "metadata": {
        "id": "B0t0lj-bZlIf"
      },
      "execution_count": null,
      "outputs": []
    },
    {
      "cell_type": "code",
      "source": [
        "model_card_dir = os.path.join('/content/model_card_files')"
      ],
      "metadata": {
        "id": "BwMtsfVsZdpH"
      },
      "execution_count": null,
      "outputs": []
    },
    {
      "cell_type": "code",
      "execution_count": null,
      "metadata": {
        "id": "Lw5Xcn4xnNQB"
      },
      "outputs": [],
      "source": [
        "# Otra opción: crear carpeta temporal\n",
        "#model_card_dir = tempfile.mkdtemp()\n",
        "\n",
        "mct = mctlib.ModelCardToolkit(model_card_dir)\n",
        "\n",
        "model_card = mct.scaffold_assets()"
      ]
    },
    {
      "cell_type": "markdown",
      "metadata": {
        "id": "FrnPOUcAOStf"
      },
      "source": [
        "### Annotate the Model Card\n",
        "\n",
        "The `ModelCard` object returned by `scaffold_assets()` has many fields that can be directly modified. These fields are rendered in the final generated Model Card document. For a comprehensive list, see [model_card.py](https://github.com/tensorflow/model-card-toolkit/blob/master/model_card_toolkit/model_card.py). See [the documentation](https://github.com/tensorflow/model-card-toolkit/blob/master/model_card_toolkit/documentation/guide/concepts.md) for more details.\n"
      ]
    },
    {
      "cell_type": "markdown",
      "source": [
        "El objeto `ModelCard` devuelto por `scaffold_assets()` tiene muchos campos que se pueden modificar directamente. Estos campos se representan en el documento final del Model Card generado."
      ],
      "metadata": {
        "id": "56pTNBADoojk"
      }
    },
    {
      "cell_type": "markdown",
      "metadata": {
        "id": "x5eg7xbISa4g"
      },
      "source": [
        "#### Text Fields"
      ]
    },
    {
      "cell_type": "markdown",
      "metadata": {
        "id": "3cO1srgD2EHw"
      },
      "source": [
        "##### Model Details\n",
        "\n",
        "`model_card.model_details` contains many basic metadata fields such as `name`, `owners`, and `version`. You can provide a description for your model in the `overview` field."
      ]
    },
    {
      "cell_type": "code",
      "execution_count": null,
      "metadata": {
        "id": "RvFUltDAB3O5"
      },
      "outputs": [],
      "source": [
        "model_card.model_details.name = 'Fine-tuned MobileNetV2 Model for Cats vs. Dogs'\n",
        "model_card.model_details.overview = (\n",
        "    'This model distinguishes cat and dog images. It uses the MobileNetV2 '\n",
        "    'architecture (https://arxiv.org/abs/1801.04381) and is trained on the '\n",
        "    'Cats vs Dogs dataset '\n",
        "    '(https://www.tensorflow.org/datasets/catalog/cats_vs_dogs). This model '\n",
        "    'performed with high accuracy on both Cat and Dog images.'\n",
        ")\n",
        "model_card.model_details.owners = [\n",
        "  mctlib.Owner(name='Model Cards Team', contact='model-cards@google.com')\n",
        "]\n",
        "model_card.model_details.version = mctlib.Version(name='v1.0', date='08/28/2020')\n",
        "model_card.model_details.references = [\n",
        "    mctlib.Reference(reference='https://www.tensorflow.org/guide/keras/transfer_learning'),\n",
        "    mctlib.Reference(reference='https://arxiv.org/abs/1801.04381'),\n",
        "]\n",
        "model_card.model_details.licenses = [mctlib.License(identifier='Apache-2.0')]\n",
        "model_card.model_details.citations = [mctlib.Citation(citation='https://github.com/tensorflow/model-card-toolkit/blob/'\n",
        "                                                                ' master/model_card_toolkit/documentation/examples/'\n",
        "                                                                ' Standalone_Model_Card_Toolkit_Demo.ipynb')]"
      ]
    },
    {
      "cell_type": "markdown",
      "metadata": {
        "id": "yoxXI5-P7JQC"
      },
      "source": [
        "##### Quantitative Analysis\n",
        "\n",
        "`model_card.quantitative_analysis` contains information about a model's performance metrics.\n",
        "\n",
        "Below, we create some synthetic performance metric values for a hypothetical model built on our dataset."
      ]
    },
    {
      "cell_type": "code",
      "execution_count": null,
      "metadata": {
        "id": "rtd9Y7yN7ITg"
      },
      "outputs": [],
      "source": [
        "model_card.quantitative_analysis.performance_metrics = [\n",
        "  mctlib.PerformanceMetric(type='accuracy', value=str(accuracy)),\n",
        "  mctlib.PerformanceMetric(type='accuracy', value=str(cat_accuracy), slice='cat'),\n",
        "  mctlib.PerformanceMetric(type='accuracy', value=str(dog_accuracy), slice='Dog'),\n",
        "]"
      ]
    },
    {
      "cell_type": "markdown",
      "metadata": {
        "id": "zRhj7rQX3gS4"
      },
      "source": [
        "##### Considerations\n",
        "\n",
        "`model_card.considerations` contains qualifying information about your model - what are the appropriate use cases, what are limitations that users should keep in mind, what are the ethical considerations of application, etc."
      ]
    },
    {
      "cell_type": "code",
      "execution_count": null,
      "metadata": {
        "id": "-b12rEyq7QXG"
      },
      "outputs": [],
      "source": [
        "model_card.considerations.use_cases = [\n",
        "    mctlib.UseCase(description='This model classifies images of cats and dogs.')\n",
        "]\n",
        "model_card.considerations.limitations = [\n",
        "    mctlib.Limitation(description='This model is not able to classify images of other classes.')\n",
        "]\n",
        "model_card.considerations.ethical_considerations = [mctlib.Risk(\n",
        "    name=\n",
        "        'While distinguishing between cats and dogs is generally agreed to be '\n",
        "        'a benign application of machine learning, harmful results can occur '\n",
        "        'when the model attempts to classify images that don’t contain cats or '\n",
        "        'dogs.',\n",
        "    mitigation_strategy=\n",
        "        'Avoid application on non-dog and non-cat images.'\n",
        ")]"
      ]
    },
    {
      "cell_type": "markdown",
      "metadata": {
        "id": "Zo9xHyAcVl6h"
      },
      "source": [
        "#### Graph Fields\n",
        "\n",
        "It's often best practice for a report to provide information on a model's training data, and its performance across evaluation data. Model Card Toolkit allows users to encode this information in visualizations, rendered in the Model Card.\n",
        "\n",
        "`model_card` has three sections for graphs:\n",
        "\n",
        "`model_card.model_parameters.data.train.graphics` for training dataset statistics, \n",
        "\n",
        "`model_card.model_parameters.data.eval.graphics` for evaluation dataset statistics, and \n",
        "\n",
        "`model_card.quantitative_analysis.graphics` for quantitative analysis of model performance.\n",
        "\n",
        "Graphs are stored as [base64 strings](https://en.wikipedia.org/wiki/Base64). If you have a [matplotlib](https://pypi.org/project/matplotlib/) figure, you can convert it to a base64 string with `model_card_toolkit.utils.graphics.figure_to_base64str()`."
      ]
    },
    {
      "cell_type": "code",
      "execution_count": null,
      "metadata": {
        "id": "ZMis4kzXdeqy",
        "colab": {
          "base_uri": "https://localhost:8080/",
          "height": 295
        },
        "outputId": "2be20fb1-4562-4e8f-a9da-6b01f6316ee4"
      },
      "outputs": [
        {
          "output_type": "display_data",
          "data": {
            "text/plain": [
              "<Figure size 432x288 with 1 Axes>"
            ],
            "image/png": "[encoded data removed]"
          },
          "metadata": {
            "needs_background": "light"
          }
        }
      ],
      "source": [
        "# Validation Set Size Bar Chart\n",
        "fig, ax = plt.subplots()\n",
        "width = 0.75\n",
        "rects0 = ax.bar(0, len(examples['combined']['examples']), width, label='Overall')\n",
        "rects1 = ax.bar(1, len(examples['cat']['examples']), width, label='Cat')\n",
        "rects2 = ax.bar(2, len(examples['dog']['examples']), width, label='Dog')\n",
        "ax.set_xticks(np.arange(3))\n",
        "ax.set_xticklabels(['Overall', 'Cat', 'Dog'])\n",
        "ax.set_ylabel('Validation Set Size')\n",
        "ax.set_xlabel('Slices')\n",
        "ax.set_title('Validation Set Size for Slices')\n",
        "\n",
        "# Función integrada para cambiar el formato de imagenes\n",
        "validation_set_size_barchart = figure_to_base64str(fig)"
      ]
    },
    {
      "cell_type": "code",
      "execution_count": null,
      "metadata": {
        "id": "UPY-j2RG9Wtr",
        "colab": {
          "base_uri": "https://localhost:8080/",
          "height": 295
        },
        "outputId": "df67373a-f646-49f0-e643-49aef636dcaa"
      },
      "outputs": [
        {
          "output_type": "display_data",
          "data": {
            "text/plain": [
              "<Figure size 432x288 with 1 Axes>"
            ],
            "image/png": "[encoded data removed]"
          },
          "metadata": {
            "needs_background": "light"
          }
        }
      ],
      "source": [
        "# Acuracy Bar Chart\n",
        "fig, ax = plt.subplots()\n",
        "width = 0.75\n",
        "rects0 = ax.bar(0, accuracy, width, label='Overall')\n",
        "rects1 = ax.bar(1, cat_accuracy, width, label='Cat')\n",
        "rects2 = ax.bar(2, dog_accuracy, width, label='Dog')\n",
        "ax.set_xticks(np.arange(3))\n",
        "ax.set_xticklabels(['Overall', 'Cat', 'Dog'])\n",
        "ax.set_ylabel('Accuracy')\n",
        "ax.set_xlabel('Slices')\n",
        "ax.set_title('Accuracy on Slices')\n",
        "\n",
        "# Función integrada para cambiar el formato de imagenes\n",
        "accuracy_barchart = figure_to_base64str(fig)"
      ]
    },
    {
      "cell_type": "markdown",
      "metadata": {
        "id": "Z7NmkfuAsPV1"
      },
      "source": [
        "Now we can add them to our `ModelCard`."
      ]
    },
    {
      "cell_type": "code",
      "execution_count": null,
      "metadata": {
        "id": "By8Qcr9usRZh"
      },
      "outputs": [],
      "source": [
        "# Agregar imagenes\n",
        "model_card.model_parameters.data.append(mctlib.Dataset())\n",
        "model_card.model_parameters.data[0].graphics.collection = [\n",
        "  mctlib.Graphic(name='Validation Set Size', image=validation_set_size_barchart),\n",
        "]\n",
        "model_card.quantitative_analysis.graphics.collection = [\n",
        "  mctlib.Graphic(name='Accuracy', image=accuracy_barchart),\n",
        "]"
      ]
    },
    {
      "cell_type": "markdown",
      "metadata": {
        "id": "SOYofSZKOMZx"
      },
      "source": [
        "### Generate the Model Card\n",
        "Let's generate the Model Card document. Available formats are stored at [model_card_toolkit/template](https://github.com/tensorflow/model-card-toolkit/tree/master/model_card_toolkit/template). Here, we will demonstrate the HTML and Markdown formats.\n",
        "\n",
        "First, we need to update the `ModelCardToolkit` with the latest `ModelCard`."
      ]
    },
    {
      "cell_type": "code",
      "execution_count": null,
      "metadata": {
        "id": "X7V0pJLB8jqJ"
      },
      "outputs": [],
      "source": [
        "mct.update_model_card(model_card)"
      ]
    },
    {
      "cell_type": "markdown",
      "metadata": {
        "id": "Fe4dya_26fJc"
      },
      "source": [
        "Now, the `ModelCardToolkit` can generate a Model Card document with `ModelCardToolkit.export_format()`."
      ]
    },
    {
      "cell_type": "code",
      "execution_count": null,
      "metadata": {
        "id": "Sd68Ih928vr9",
        "colab": {
          "base_uri": "https://localhost:8080/",
          "height": 1000
        },
        "outputId": "02251f47-c56e-4b2c-c5e5-593ab10c7769"
      },
      "outputs": [
        {
          "output_type": "display_data",
          "data": {
            "text/plain": [
              "<IPython.core.display.HTML object>"
            ],
            "text/html": [
              "<!DOCTYPE html>\n",
              "\n",
              "\n",
              "\n",
              "\n",
              "\n",
              "\n",
              "\n",
              "\n",
              "\n",
              "\n",
              "\n",
              "<html lang=\"en\">\n",
              "<head>\n",
              "<style>\n",
              "  h1 {text-align: center;}\n",
              "  .row {\n",
              "    display: flex;\n",
              "  }\n",
              "  .col {\n",
              "    flex: 1;\n",
              "  }\n",
              "  .card {\n",
              "    padding: 1em;\n",
              "    border: 1px solid #DADCE0;\n",
              "    margin: 10px;\n",
              "  }\n",
              "  .img-container {\n",
              "    display: flex;\n",
              "    flex-wrap: wrap;\n",
              "    justify-content: space-around;\n",
              "    text-align: center;\n",
              "  }\n",
              "  .img-item {\n",
              "    flex: 1;\n",
              "  }\n",
              "  .center {\n",
              "    margin-left: auto;\n",
              "    margin-right: auto;\n",
              "  }\n",
              "  table th {\n",
              "    background: #eee;\n",
              "  }\n",
              "  table, th, td {\n",
              "    border: 1px solid black;\n",
              "    border-collapse: collapse;\n",
              "  }\n",
              "  th, td {\n",
              "    border: 1px solid #ccc;\n",
              "    height: 30px;\n",
              "    text-align: left;\n",
              "    padding: 5px 10px\n",
              "  }\n",
              "  caption { font-weight: bold; }\n",
              "</style>\n",
              "<title>\n",
              "  Model Card for Fine-tuned MobileNetV2 Model for Cats vs. Dogs\n",
              "</title>\n",
              "</head>\n",
              "<body>\n",
              "  <h1>\n",
              "    Model Card for Fine-tuned MobileNetV2 Model for Cats vs. Dogs\n",
              "  </h1>\n",
              "    <div class=\"row\">\n",
              "      <div class=\"col card\">\n",
              "        <h2>Model Details</h2>\n",
              "          <h3>Overview</h3>\n",
              "              This model distinguishes cat and dog images. It uses the MobileNetV2 architecture (https://arxiv.org/abs/1801.04381) and is trained on the Cats vs Dogs dataset (https://www.tensorflow.org/datasets/catalog/cats_vs_dogs). This model performed with high accuracy on both Cat and Dog images.\n",
              "          <h3>Version</h3>\n",
              "              \n",
              "  \n",
              "    <div>name: v1.0</div>\n",
              "\n",
              "              \n",
              "  \n",
              "    <div>date: 08/28/2020</div>\n",
              "\n",
              "              \n",
              "  \n",
              "\n",
              "          \n",
              "          \n",
              "          <h3>Owners</h3>\n",
              "            \n",
              "              Model Cards Team, model-cards@google.com\n",
              "            \n",
              "          \n",
              "          \n",
              "            <h3>Licenses</h3>\n",
              "              <ul>\n",
              "\n",
              "                <li>Apache-2.0</li>\n",
              "\n",
              "              </ul>\n",
              "          \n",
              "            <h3>References</h3>\n",
              "              <ul>\n",
              "              \n",
              "                <li><a href=\"https://www.tensorflow.org/guide/keras/transfer_learning\">https://www.tensorflow.org/guide/keras/transfer_learning</a></li>\n",
              "              \n",
              "                <li><a href=\"https://arxiv.org/abs/1801.04381\">https://arxiv.org/abs/1801.04381</a></li>\n",
              "              \n",
              "              </ul>\n",
              "          \n",
              "            <h3>Citations</h3>\n",
              "              <ul>\n",
              "              \n",
              "                <li>https://github.com/tensorflow/model-card-toolkit/blob/ master/model_card_toolkit/documentation/examples/ Standalone_Model_Card_Toolkit_Demo.ipynb</li>\n",
              "              \n",
              "              </ul>\n",
              "        </div>\n",
              "      \n",
              "      \n",
              "      <div class=\"col card\">\n",
              "        <h2>Considerations</h2>\n",
              "          \n",
              "          \n",
              "            <h3>Use Cases</h3>\n",
              "              \n",
              "  \n",
              "  <ul>\n",
              "  \n",
              "    <li>This model classifies images of cats and dogs.</li>\n",
              "  \n",
              "  </ul>\n",
              "\n",
              "          \n",
              "          \n",
              "            <h3>Limitations</h3>\n",
              "              \n",
              "  \n",
              "  <ul>\n",
              "  \n",
              "    <li>This model is not able to classify images of other classes.</li>\n",
              "  \n",
              "  </ul>\n",
              "\n",
              "          \n",
              "          \n",
              "          \n",
              "            <h3>Ethical Considerations</h3>\n",
              "              <ul>\n",
              "                <li>\n",
              "                  <div>Risk: While distinguishing between cats and dogs is generally agreed to be a benign application of machine learning, harmful results can occur when the model attempts to classify images that don’t contain cats or dogs.</div>\n",
              "                  <div>Mitigation Strategy: Avoid application on non-dog and non-cat images.</div>\n",
              "                </li> </ul>\n",
              "      </div>\n",
              "      \n",
              "    </div>\n",
              "    \n",
              "      \n",
              "  <div class=\"col card\">\n",
              "    <h2>Datasets</h2>\n",
              "    \n",
              "      <div class=\"row\">\n",
              "        <div class=\"col card\">\n",
              "          \n",
              "            \n",
              "            \n",
              "            \n",
              "              \n",
              "  <div class=\"img-container\">\n",
              "  \n",
              "  \n",
              "    <div class=\"img-item\">\n",
              "      <img src='data:image/jpeg;base64,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' alt='Validation Set Size' />\n",
              "    </div>\n",
              "  \n",
              "  </div>\n",
              "\n",
              "            \n",
              "        </div>\n",
              "      </div>\n",
              "    \n",
              "  </div>\n",
              "\n",
              "    \n",
              "    \n",
              "      \n",
              "<div class=\"col card\">\n",
              "  <h2>Quantitative Analysis</h2>\n",
              "  \n",
              "    \n",
              "<table class=\"center\">\n",
              "  <caption>Performance Metrics</caption>\n",
              "  <tr><th>Name</th><th>Value</th></tr>\n",
              "\n",
              "  <tr><td>\n",
              "accuracy\n",
              "</td><td>\n",
              "0.981249988079071 (None, None)\n",
              "</td></tr>\n",
              "\n",
              "  <tr><td>\n",
              "accuracy, cat\n",
              "</td><td>\n",
              "0.9932885766029358 (None, None)\n",
              "</td></tr>\n",
              "\n",
              "  <tr><td>\n",
              "accuracy, Dog\n",
              "</td><td>\n",
              "0.9707602262496948 (None, None)\n",
              "</td></tr>\n",
              "\n",
              "</table>\n",
              "\n",
              "  \n",
              "  \n",
              "    \n",
              "  <div class=\"row\">\n",
              "    <div class=\"col\">\n",
              "      None\n",
              "      \n",
              "  <div class=\"img-container\">\n",
              "  \n",
              "  \n",
              "    <div class=\"img-item\">\n",
              "      <img src='data:image/jpeg;base64,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' alt='Accuracy' />\n",
              "    </div>\n",
              "  \n",
              "  </div>\n",
              "\n",
              "    </div>\n",
              "  </div>\n",
              "\n",
              "  \n",
              "</div>\n",
              "\n",
              "    \n",
              "</body>\n",
              "</html>"
            ]
          },
          "metadata": {}
        }
      ],
      "source": [
        "# Generate a model card document in HTML (default)\n",
        "html_doc = mct.export_format()\n",
        "\n",
        "# Display the model card document in HTML\n",
        "display.display(display.HTML(html_doc))"
      ]
    },
    {
      "cell_type": "markdown",
      "metadata": {
        "id": "Vtl8lZG3Amr5"
      },
      "source": [
        "You can also output a Model Card in other formats, like Markdown."
      ]
    },
    {
      "cell_type": "code",
      "execution_count": null,
      "metadata": {
        "id": "uncQA2NfAnIS",
        "colab": {
          "base_uri": "https://localhost:8080/",
          "height": 1000
        },
        "outputId": "fc289a97-610d-4299-bdee-c5f82092d7f0"
      },
      "outputs": [
        {
          "output_type": "display_data",
          "data": {
            "text/plain": [
              "<IPython.core.display.Markdown object>"
            ],
            "text/markdown": "\n\n\n\n\n\n# Model Card for Fine-tuned MobileNetV2 Model for Cats vs. Dogs\n\n## Model Details\n\n### Overview\nThis model distinguishes cat and dog images. It uses the MobileNetV2 architecture (https://arxiv.org/abs/1801.04381) and is trained on the Cats vs Dogs dataset (https://www.tensorflow.org/datasets/catalog/cats_vs_dogs). This model performed with high accuracy on both Cat and Dog images. \n\n### Version\n\nname: v1.0  \n\ndate: 08/28/2020  \n\n### Owners\n\n* Model Cards Team, model-cards@google.com\n\n\n### Licenses\n\n* Apache-2.0\n\n### References\n\n* [https://www.tensorflow.org/guide/keras/transfer_learning](https://www.tensorflow.org/guide/keras/transfer_learning)\n* [https://arxiv.org/abs/1801.04381](https://arxiv.org/abs/1801.04381)\n\n\n### Citations\n\n* https://github.com/tensorflow/model-card-toolkit/blob/ master/model_card_toolkit/documentation/examples/ Standalone_Model_Card_Toolkit_Demo.ipynb\n\n\n\n## Considerations\n\n### Use Cases\n\n* This model classifies images of cats and dogs.\n\n\n### Limitations\n\n* This model is not able to classify images of other classes.\n\n\n### Ethical Considerations\n\n* Risk: While distinguishing between cats and dogs is generally agreed to be a benign application of machine learning, harmful results can occur when the model attempts to classify images that don’t contain cats or dogs.\n  * Mitigation Strategy: Avoid application on non-dog and non-cat images.\n\n## Graphics\n  \n### Validation Set Size\n<img src=\"data:image/jpeg;base64,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\">\n\n\n  \n### Accuracy\n<img src=\"data:image/jpeg;base64,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\">\n\n\n## Metrics\n\n|Name|Value|\n-----|------\n|accuracy|0.981249988079071 (None, None)|\n|accuracy, cat|0.9932885766029358 (None, None)|\n|accuracy, Dog|0.9707602262496948 (None, None)|\n\n"
          },
          "metadata": {}
        }
      ],
      "source": [
        "# Generate a model card document in Markdown\n",
        "md_path = os.path.join(model_card_dir, 'template/md/default_template.md.jinja')\n",
        "md_doc = mct.export_format(template_path=md_path, output_file='model_card.md')\n",
        "\n",
        "# Display the model card document in Markdown\n",
        "display.display(display.Markdown(md_doc))"
      ]
    }
  ],
  "metadata": {
    "colab": {
      "provenance": []
    },
    "kernelspec": {
      "display_name": "Python 3",
      "name": "python3"
    },
    "widgets": {
      "application/vnd.jupyter.widget-state+json": {
        "78a01b0221ac4dd993d7c6faab7719eb": {
          "model_module": "@jupyter-widgets/controls",
          "model_name": "HBoxModel",
          "model_module_version": "1.5.0",
          "state": {
            "_dom_classes": [],
            "_model_module": "@jupyter-widgets/controls",
            "_model_module_version": "1.5.0",
            "_model_name": "HBoxModel",
            "_view_count": null,
            "_view_module": "@jupyter-widgets/controls",
            "_view_module_version": "1.5.0",
            "_view_name": "HBoxView",
            "box_style": "",
            "children": [
              "IPY_MODEL_6130722caa7b4ddeb40972c1332179e0",
              "IPY_MODEL_8ea5a7b487fc49ed9c68a758302baaec",
              "IPY_MODEL_3250ce795e6c4c7c9fba6ec77bf8a006"
            ],
            "layout": "IPY_MODEL_05ff40a1f22f427d8ae65ec72210e181"
          }
        },
        "6130722caa7b4ddeb40972c1332179e0": {
          "model_module": "@jupyter-widgets/controls",
          "model_name": "HTMLModel",
          "model_module_version": "1.5.0",
          "state": {
            "_dom_classes": [],
            "_model_module": "@jupyter-widgets/controls",
            "_model_module_version": "1.5.0",
            "_model_name": "HTMLModel",
            "_view_count": null,
            "_view_module": "@jupyter-widgets/controls",
            "_view_module_version": "1.5.0",
            "_view_name": "HTMLView",
            "description": "",
            "description_tooltip": null,
            "layout": "IPY_MODEL_2bdea0bd12fb4df18c8a4b5c4180d3bf",
            "placeholder": "​",
            "style": "IPY_MODEL_50727301ac4b4bd995eb78bc2f9faadf",
            "value": "Dl Completed...: 100%"
          }
        },
        "8ea5a7b487fc49ed9c68a758302baaec": {
          "model_module": "@jupyter-widgets/controls",
          "model_name": "FloatProgressModel",
          "model_module_version": "1.5.0",
          "state": {
            "_dom_classes": [],
            "_model_module": "@jupyter-widgets/controls",
            "_model_module_version": "1.5.0",
            "_model_name": "FloatProgressModel",
            "_view_count": null,
            "_view_module": "@jupyter-widgets/controls",
            "_view_module_version": "1.5.0",
            "_view_name": "ProgressView",
            "bar_style": "success",
            "description": "",
            "description_tooltip": null,
            "layout": "IPY_MODEL_4f2109b22eab49e0b2cbbd580a33a6b8",
            "max": 1,
            "min": 0,
            "orientation": "horizontal",
            "style": "IPY_MODEL_51b9ad6b0a1a4feca500d5f1f34578f2",
            "value": 1
          }
        },
        "3250ce795e6c4c7c9fba6ec77bf8a006": {
          "model_module": "@jupyter-widgets/controls",
          "model_name": "HTMLModel",
          "model_module_version": "1.5.0",
          "state": {
            "_dom_classes": [],
            "_model_module": "@jupyter-widgets/controls",
            "_model_module_version": "1.5.0",
            "_model_name": "HTMLModel",
            "_view_count": null,
            "_view_module": "@jupyter-widgets/controls",
            "_view_module_version": "1.5.0",
            "_view_name": "HTMLView",
            "description": "",
            "description_tooltip": null,
            "layout": "IPY_MODEL_b26badc7e45e4cc99da3d2b5a6f6524b",
            "placeholder": "​",
            "style": "IPY_MODEL_feff0b8cd130467eadeb6cc9b4c09faa",
            "value": " 1/1 [00:11&lt;00:00, 11.56s/ url]"
          }
        },
        "05ff40a1f22f427d8ae65ec72210e181": {
          "model_module": "@jupyter-widgets/base",
          "model_name": "LayoutModel",
          "model_module_version": "1.2.0",
          "state": {
            "_model_module": "@jupyter-widgets/base",
            "_model_module_version": "1.2.0",
            "_model_name": "LayoutModel",
            "_view_count": null,
            "_view_module": "@jupyter-widgets/base",
            "_view_module_version": "1.2.0",
            "_view_name": "LayoutView",
            "align_content": null,
            "align_items": null,
            "align_self": null,
            "border": null,
            "bottom": null,
            "display": null,
            "flex": null,
            "flex_flow": null,
            "grid_area": null,
            "grid_auto_columns": null,
            "grid_auto_flow": null,
            "grid_auto_rows": null,
            "grid_column": null,
            "grid_gap": null,
            "grid_row": null,
            "grid_template_areas": null,
            "grid_template_columns": null,
            "grid_template_rows": null,
            "height": null,
            "justify_content": null,
            "justify_items": null,
            "left": null,
            "margin": null,
            "max_height": null,
            "max_width": null,
            "min_height": null,
            "min_width": null,
            "object_fit": null,
            "object_position": null,
            "order": null,
            "overflow": null,
            "overflow_x": null,
            "overflow_y": null,
            "padding": null,
            "right": null,
            "top": null,
            "visibility": null,
            "width": null
          }
        },
        "2bdea0bd12fb4df18c8a4b5c4180d3bf": {
          "model_module": "@jupyter-widgets/base",
          "model_name": "LayoutModel",
          "model_module_version": "1.2.0",
          "state": {
            "_model_module": "@jupyter-widgets/base",
            "_model_module_version": "1.2.0",
            "_model_name": "LayoutModel",
            "_view_count": null,
            "_view_module": "@jupyter-widgets/base",
            "_view_module_version": "1.2.0",
            "_view_name": "LayoutView",
            "align_content": null,
            "align_items": null,
            "align_self": null,
            "border": null,
            "bottom": null,
            "display": null,
            "flex": null,
            "flex_flow": null,
            "grid_area": null,
            "grid_auto_columns": null,
            "grid_auto_flow": null,
            "grid_auto_rows": null,
            "grid_column": null,
            "grid_gap": null,
            "grid_row": null,
            "grid_template_areas": null,
            "grid_template_columns": null,
            "grid_template_rows": null,
            "height": null,
            "justify_content": null,
            "justify_items": null,
            "left": null,
            "margin": null,
            "max_height": null,
            "max_width": null,
            "min_height": null,
            "min_width": null,
            "object_fit": null,
            "object_position": null,
            "order": null,
            "overflow": null,
            "overflow_x": null,
            "overflow_y": null,
            "padding": null,
            "right": null,
            "top": null,
            "visibility": null,
            "width": null
          }
        },
        "50727301ac4b4bd995eb78bc2f9faadf": {
          "model_module": "@jupyter-widgets/controls",
          "model_name": "DescriptionStyleModel",
          "model_module_version": "1.5.0",
          "state": {
            "_model_module": "@jupyter-widgets/controls",
            "_model_module_version": "1.5.0",
            "_model_name": "DescriptionStyleModel",
            "_view_count": null,
            "_view_module": "@jupyter-widgets/base",
            "_view_module_version": "1.2.0",
            "_view_name": "StyleView",
            "description_width": ""
          }
        },
        "4f2109b22eab49e0b2cbbd580a33a6b8": {
          "model_module": "@jupyter-widgets/base",
          "model_name": "LayoutModel",
          "model_module_version": "1.2.0",
          "state": {
            "_model_module": "@jupyter-widgets/base",
            "_model_module_version": "1.2.0",
            "_model_name": "LayoutModel",
            "_view_count": null,
            "_view_module": "@jupyter-widgets/base",
            "_view_module_version": "1.2.0",
            "_view_name": "LayoutView",
            "align_content": null,
            "align_items": null,
            "align_self": null,
            "border": null,
            "bottom": null,
            "display": null,
            "flex": null,
            "flex_flow": null,
            "grid_area": null,
            "grid_auto_columns": null,
            "grid_auto_flow": null,
            "grid_auto_rows": null,
            "grid_column": null,
            "grid_gap": null,
            "grid_row": null,
            "grid_template_areas": null,
            "grid_template_columns": null,
            "grid_template_rows": null,
            "height": null,
            "justify_content": null,
            "justify_items": null,
            "left": null,
            "margin": null,
            "max_height": null,
            "max_width": null,
            "min_height": null,
            "min_width": null,
            "object_fit": null,
            "object_position": null,
            "order": null,
            "overflow": null,
            "overflow_x": null,
            "overflow_y": null,
            "padding": null,
            "right": null,
            "top": null,
            "visibility": null,
            "width": "20px"
          }
        },
        "51b9ad6b0a1a4feca500d5f1f34578f2": {
          "model_module": "@jupyter-widgets/controls",
          "model_name": "ProgressStyleModel",
          "model_module_version": "1.5.0",
          "state": {
            "_model_module": "@jupyter-widgets/controls",
            "_model_module_version": "1.5.0",
            "_model_name": "ProgressStyleModel",
            "_view_count": null,
            "_view_module": "@jupyter-widgets/base",
            "_view_module_version": "1.2.0",
            "_view_name": "StyleView",
            "bar_color": null,
            "description_width": ""
          }
        },
        "b26badc7e45e4cc99da3d2b5a6f6524b": {
          "model_module": "@jupyter-widgets/base",
          "model_name": "LayoutModel",
          "model_module_version": "1.2.0",
          "state": {
            "_model_module": "@jupyter-widgets/base",
            "_model_module_version": "1.2.0",
            "_model_name": "LayoutModel",
            "_view_count": null,
            "_view_module": "@jupyter-widgets/base",
            "_view_module_version": "1.2.0",
            "_view_name": "LayoutView",
            "align_content": null,
            "align_items": null,
            "align_self": null,
            "border": null,
            "bottom": null,
            "display": null,
            "flex": null,
            "flex_flow": null,
            "grid_area": null,
            "grid_auto_columns": null,
            "grid_auto_flow": null,
            "grid_auto_rows": null,
            "grid_column": null,
            "grid_gap": null,
            "grid_row": null,
            "grid_template_areas": null,
            "grid_template_columns": null,
            "grid_template_rows": null,
            "height": null,
            "justify_content": null,
            "justify_items": null,
            "left": null,
            "margin": null,
            "max_height": null,
            "max_width": null,
            "min_height": null,
            "min_width": null,
            "object_fit": null,
            "object_position": null,
            "order": null,
            "overflow": null,
            "overflow_x": null,
            "overflow_y": null,
            "padding": null,
            "right": null,
            "top": null,
            "visibility": null,
            "width": null
          }
        },
        "feff0b8cd130467eadeb6cc9b4c09faa": {
          "model_module": "@jupyter-widgets/controls",
          "model_name": "DescriptionStyleModel",
          "model_module_version": "1.5.0",
          "state": {
            "_model_module": "@jupyter-widgets/controls",
            "_model_module_version": "1.5.0",
            "_model_name": "DescriptionStyleModel",
            "_view_count": null,
            "_view_module": "@jupyter-widgets/base",
            "_view_module_version": "1.2.0",
            "_view_name": "StyleView",
            "description_width": ""
          }
        },
        "ded5b2c68a1a4a4cac390cdff9f01b96": {
          "model_module": "@jupyter-widgets/controls",
          "model_name": "HBoxModel",
          "model_module_version": "1.5.0",
          "state": {
            "_dom_classes": [],
            "_model_module": "@jupyter-widgets/controls",
            "_model_module_version": "1.5.0",
            "_model_name": "HBoxModel",
            "_view_count": null,
            "_view_module": "@jupyter-widgets/controls",
            "_view_module_version": "1.5.0",
            "_view_name": "HBoxView",
            "box_style": "",
            "children": [
              "IPY_MODEL_bf889501b2294084bf9f3c42d524fce6",
              "IPY_MODEL_7f490cf06e7241c3a8479d58a7761693",
              "IPY_MODEL_57c57fc0aca54c3fa68ea7e2814b8670"
            ],
            "layout": "IPY_MODEL_cfa7f63c2b4d467d818c945c6a08e543"
          }
        },
        "bf889501b2294084bf9f3c42d524fce6": {
          "model_module": "@jupyter-widgets/controls",
          "model_name": "HTMLModel",
          "model_module_version": "1.5.0",
          "state": {
            "_dom_classes": [],
            "_model_module": "@jupyter-widgets/controls",
            "_model_module_version": "1.5.0",
            "_model_name": "HTMLModel",
            "_view_count": null,
            "_view_module": "@jupyter-widgets/controls",
            "_view_module_version": "1.5.0",
            "_view_name": "HTMLView",
            "description": "",
            "description_tooltip": null,
            "layout": "IPY_MODEL_d0ba456c11cd4ddc91c1fa1f7bfe5227",
            "placeholder": "​",
            "style": "IPY_MODEL_5971db228204458a8da1cda7094a424a",
            "value": "Dl Size...: 100%"
          }
        },
        "7f490cf06e7241c3a8479d58a7761693": {
          "model_module": "@jupyter-widgets/controls",
          "model_name": "FloatProgressModel",
          "model_module_version": "1.5.0",
          "state": {
            "_dom_classes": [],
            "_model_module": "@jupyter-widgets/controls",
            "_model_module_version": "1.5.0",
            "_model_name": "FloatProgressModel",
            "_view_count": null,
            "_view_module": "@jupyter-widgets/controls",
            "_view_module_version": "1.5.0",
            "_view_name": "ProgressView",
            "bar_style": "success",
            "description": "",
            "description_tooltip": null,
            "layout": "IPY_MODEL_e0235a950ef84308abbc242644aba849",
            "max": 1,
            "min": 0,
            "orientation": "horizontal",
            "style": "IPY_MODEL_59def52df7f2468aa5d3408875ce8e6e",
            "value": 1
          }
        },
        "57c57fc0aca54c3fa68ea7e2814b8670": {
          "model_module": "@jupyter-widgets/controls",
          "model_name": "HTMLModel",
          "model_module_version": "1.5.0",
          "state": {
            "_dom_classes": [],
            "_model_module": "@jupyter-widgets/controls",
            "_model_module_version": "1.5.0",
            "_model_name": "HTMLModel",
            "_view_count": null,
            "_view_module": "@jupyter-widgets/controls",
            "_view_module_version": "1.5.0",
            "_view_name": "HTMLView",
            "description": "",
            "description_tooltip": null,
            "layout": "IPY_MODEL_1f6e390f9c5440d7bde35fe8bf60579d",
            "placeholder": "​",
            "style": "IPY_MODEL_71287bcd7bc34f6ebea3045f6e83f73e",
            "value": " 786/786 [00:11&lt;00:00, 60.13 MiB/s]"
          }
        },
        "cfa7f63c2b4d467d818c945c6a08e543": {
          "model_module": "@jupyter-widgets/base",
          "model_name": "LayoutModel",
          "model_module_version": "1.2.0",
          "state": {
            "_model_module": "@jupyter-widgets/base",
            "_model_module_version": "1.2.0",
            "_model_name": "LayoutModel",
            "_view_count": null,
            "_view_module": "@jupyter-widgets/base",
            "_view_module_version": "1.2.0",
            "_view_name": "LayoutView",
            "align_content": null,
            "align_items": null,
            "align_self": null,
            "border": null,
            "bottom": null,
            "display": null,
            "flex": null,
            "flex_flow": null,
            "grid_area": null,
            "grid_auto_columns": null,
            "grid_auto_flow": null,
            "grid_auto_rows": null,
            "grid_column": null,
            "grid_gap": null,
            "grid_row": null,
            "grid_template_areas": null,
            "grid_template_columns": null,
            "grid_template_rows": null,
            "height": null,
            "justify_content": null,
            "justify_items": null,
            "left": null,
            "margin": null,
            "max_height": null,
            "max_width": null,
            "min_height": null,
            "min_width": null,
            "object_fit": null,
            "object_position": null,
            "order": null,
            "overflow": null,
            "overflow_x": null,
            "overflow_y": null,
            "padding": null,
            "right": null,
            "top": null,
            "visibility": null,
            "width": null
          }
        },
        "d0ba456c11cd4ddc91c1fa1f7bfe5227": {
          "model_module": "@jupyter-widgets/base",
          "model_name": "LayoutModel",
          "model_module_version": "1.2.0",
          "state": {
            "_model_module": "@jupyter-widgets/base",
            "_model_module_version": "1.2.0",
            "_model_name": "LayoutModel",
            "_view_count": null,
            "_view_module": "@jupyter-widgets/base",
            "_view_module_version": "1.2.0",
            "_view_name": "LayoutView",
            "align_content": null,
            "align_items": null,
            "align_self": null,
            "border": null,
            "bottom": null,
            "display": null,
            "flex": null,
            "flex_flow": null,
            "grid_area": null,
            "grid_auto_columns": null,
            "grid_auto_flow": null,
            "grid_auto_rows": null,
            "grid_column": null,
            "grid_gap": null,
            "grid_row": null,
            "grid_template_areas": null,
            "grid_template_columns": null,
            "grid_template_rows": null,
            "height": null,
            "justify_content": null,
            "justify_items": null,
            "left": null,
            "margin": null,
            "max_height": null,
            "max_width": null,
            "min_height": null,
            "min_width": null,
            "object_fit": null,
            "object_position": null,
            "order": null,
            "overflow": null,
            "overflow_x": null,
            "overflow_y": null,
            "padding": null,
            "right": null,
            "top": null,
            "visibility": null,
            "width": null
          }
        },
        "5971db228204458a8da1cda7094a424a": {
          "model_module": "@jupyter-widgets/controls",
          "model_name": "DescriptionStyleModel",
          "model_module_version": "1.5.0",
          "state": {
            "_model_module": "@jupyter-widgets/controls",
            "_model_module_version": "1.5.0",
            "_model_name": "DescriptionStyleModel",
            "_view_count": null,
            "_view_module": "@jupyter-widgets/base",
            "_view_module_version": "1.2.0",
            "_view_name": "StyleView",
            "description_width": ""
          }
        },
        "e0235a950ef84308abbc242644aba849": {
          "model_module": "@jupyter-widgets/base",
          "model_name": "LayoutModel",
          "model_module_version": "1.2.0",
          "state": {
            "_model_module": "@jupyter-widgets/base",
            "_model_module_version": "1.2.0",
            "_model_name": "LayoutModel",
            "_view_count": null,
            "_view_module": "@jupyter-widgets/base",
            "_view_module_version": "1.2.0",
            "_view_name": "LayoutView",
            "align_content": null,
            "align_items": null,
            "align_self": null,
            "border": null,
            "bottom": null,
            "display": null,
            "flex": null,
            "flex_flow": null,
            "grid_area": null,
            "grid_auto_columns": null,
            "grid_auto_flow": null,
            "grid_auto_rows": null,
            "grid_column": null,
            "grid_gap": null,
            "grid_row": null,
            "grid_template_areas": null,
            "grid_template_columns": null,
            "grid_template_rows": null,
            "height": null,
            "justify_content": null,
            "justify_items": null,
            "left": null,
            "margin": null,
            "max_height": null,
            "max_width": null,
            "min_height": null,
            "min_width": null,
            "object_fit": null,
            "object_position": null,
            "order": null,
            "overflow": null,
            "overflow_x": null,
            "overflow_y": null,
            "padding": null,
            "right": null,
            "top": null,
            "visibility": null,
            "width": "20px"
          }
        },
        "59def52df7f2468aa5d3408875ce8e6e": {
          "model_module": "@jupyter-widgets/controls",
          "model_name": "ProgressStyleModel",
          "model_module_version": "1.5.0",
          "state": {
            "_model_module": "@jupyter-widgets/controls",
            "_model_module_version": "1.5.0",
            "_model_name": "ProgressStyleModel",
            "_view_count": null,
            "_view_module": "@jupyter-widgets/base",
            "_view_module_version": "1.2.0",
            "_view_name": "StyleView",
            "bar_color": null,
            "description_width": ""
          }
        },
        "1f6e390f9c5440d7bde35fe8bf60579d": {
          "model_module": "@jupyter-widgets/base",
          "model_name": "LayoutModel",
          "model_module_version": "1.2.0",
          "state": {
            "_model_module": "@jupyter-widgets/base",
            "_model_module_version": "1.2.0",
            "_model_name": "LayoutModel",
            "_view_count": null,
            "_view_module": "@jupyter-widgets/base",
            "_view_module_version": "1.2.0",
            "_view_name": "LayoutView",
            "align_content": null,
            "align_items": null,
            "align_self": null,
            "border": null,
            "bottom": null,
            "display": null,
            "flex": null,
            "flex_flow": null,
            "grid_area": null,
            "grid_auto_columns": null,
            "grid_auto_flow": null,
            "grid_auto_rows": null,
            "grid_column": null,
            "grid_gap": null,
            "grid_row": null,
            "grid_template_areas": null,
            "grid_template_columns": null,
            "grid_template_rows": null,
            "height": null,
            "justify_content": null,
            "justify_items": null,
            "left": null,
            "margin": null,
            "max_height": null,
            "max_width": null,
            "min_height": null,
            "min_width": null,
            "object_fit": null,
            "object_position": null,
            "order": null,
            "overflow": null,
            "overflow_x": null,
            "overflow_y": null,
            "padding": null,
            "right": null,
            "top": null,
            "visibility": null,
            "width": null
          }
        },
        "71287bcd7bc34f6ebea3045f6e83f73e": {
          "model_module": "@jupyter-widgets/controls",
          "model_name": "DescriptionStyleModel",
          "model_module_version": "1.5.0",
          "state": {
            "_model_module": "@jupyter-widgets/controls",
            "_model_module_version": "1.5.0",
            "_model_name": "DescriptionStyleModel",
            "_view_count": null,
            "_view_module": "@jupyter-widgets/base",
            "_view_module_version": "1.2.0",
            "_view_name": "StyleView",
            "description_width": ""
          }
        },
        "7e8e44a5674740639f173753645c20f2": {
          "model_module": "@jupyter-widgets/controls",
          "model_name": "HBoxModel",
          "model_module_version": "1.5.0",
          "state": {
            "_dom_classes": [],
            "_model_module": "@jupyter-widgets/controls",
            "_model_module_version": "1.5.0",
            "_model_name": "HBoxModel",
            "_view_count": null,
            "_view_module": "@jupyter-widgets/controls",
            "_view_module_version": "1.5.0",
            "_view_name": "HBoxView",
            "box_style": "",
            "children": [
              "IPY_MODEL_57cd79941ef54c72b2e261d87fa612da",
              "IPY_MODEL_b8357dd89112477e8d829957e99e66ef",
              "IPY_MODEL_0ba937eb4b0e4b88b168f0ba6d576408"
            ],
            "layout": "IPY_MODEL_f02ce449f2f447c7aafdab1adc3f0a78"
          }
        },
        "57cd79941ef54c72b2e261d87fa612da": {
          "model_module": "@jupyter-widgets/controls",
          "model_name": "HTMLModel",
          "model_module_version": "1.5.0",
          "state": {
            "_dom_classes": [],
            "_model_module": "@jupyter-widgets/controls",
            "_model_module_version": "1.5.0",
            "_model_name": "HTMLModel",
            "_view_count": null,
            "_view_module": "@jupyter-widgets/controls",
            "_view_module_version": "1.5.0",
            "_view_name": "HTMLView",
            "description": "",
            "description_tooltip": null,
            "layout": "IPY_MODEL_31a633d967634c46885b28befbdcfcd2",
            "placeholder": "​",
            "style": "IPY_MODEL_708b9686526d4c66ace87a82817c7aac",
            "value": ""
          }
        },
        "b8357dd89112477e8d829957e99e66ef": {
          "model_module": "@jupyter-widgets/controls",
          "model_name": "FloatProgressModel",
          "model_module_version": "1.5.0",
          "state": {
            "_dom_classes": [],
            "_model_module": "@jupyter-widgets/controls",
            "_model_module_version": "1.5.0",
            "_model_name": "FloatProgressModel",
            "_view_count": null,
            "_view_module": "@jupyter-widgets/controls",
            "_view_module_version": "1.5.0",
            "_view_name": "ProgressView",
            "bar_style": "info",
            "description": "",
            "description_tooltip": null,
            "layout": "IPY_MODEL_f8811584ab744894aad0685b61683b4b",
            "max": 1,
            "min": 0,
            "orientation": "horizontal",
            "style": "IPY_MODEL_bb60f42d18c64d41816ba7d387bc3c08",
            "value": 1
          }
        },
        "0ba937eb4b0e4b88b168f0ba6d576408": {
          "model_module": "@jupyter-widgets/controls",
          "model_name": "HTMLModel",
          "model_module_version": "1.5.0",
          "state": {
            "_dom_classes": [],
            "_model_module": "@jupyter-widgets/controls",
            "_model_module_version": "1.5.0",
            "_model_name": "HTMLModel",
            "_view_count": null,
            "_view_module": "@jupyter-widgets/controls",
            "_view_module_version": "1.5.0",
            "_view_name": "HTMLView",
            "description": "",
            "description_tooltip": null,
            "layout": "IPY_MODEL_946e45009a1340bf82478cfcae086845",
            "placeholder": "​",
            "style": "IPY_MODEL_a1b08511b0d049f7abd6e25cb3fa128a",
            "value": " 23215/0 [00:14&lt;00:00, 1583.67 examples/s]"
          }
        },
        "f02ce449f2f447c7aafdab1adc3f0a78": {
          "model_module": "@jupyter-widgets/base",
          "model_name": "LayoutModel",
          "model_module_version": "1.2.0",
          "state": {
            "_model_module": "@jupyter-widgets/base",
            "_model_module_version": "1.2.0",
            "_model_name": "LayoutModel",
            "_view_count": null,
            "_view_module": "@jupyter-widgets/base",
            "_view_module_version": "1.2.0",
            "_view_name": "LayoutView",
            "align_content": null,
            "align_items": null,
            "align_self": null,
            "border": null,
            "bottom": null,
            "display": null,
            "flex": null,
            "flex_flow": null,
            "grid_area": null,
            "grid_auto_columns": null,
            "grid_auto_flow": null,
            "grid_auto_rows": null,
            "grid_column": null,
            "grid_gap": null,
            "grid_row": null,
            "grid_template_areas": null,
            "grid_template_columns": null,
            "grid_template_rows": null,
            "height": null,
            "justify_content": null,
            "justify_items": null,
            "left": null,
            "margin": null,
            "max_height": null,
            "max_width": null,
            "min_height": null,
            "min_width": null,
            "object_fit": null,
            "object_position": null,
            "order": null,
            "overflow": null,
            "overflow_x": null,
            "overflow_y": null,
            "padding": null,
            "right": null,
            "top": null,
            "visibility": null,
            "width": null
          }
        },
        "31a633d967634c46885b28befbdcfcd2": {
          "model_module": "@jupyter-widgets/base",
          "model_name": "LayoutModel",
          "model_module_version": "1.2.0",
          "state": {
            "_model_module": "@jupyter-widgets/base",
            "_model_module_version": "1.2.0",
            "_model_name": "LayoutModel",
            "_view_count": null,
            "_view_module": "@jupyter-widgets/base",
            "_view_module_version": "1.2.0",
            "_view_name": "LayoutView",
            "align_content": null,
            "align_items": null,
            "align_self": null,
            "border": null,
            "bottom": null,
            "display": null,
            "flex": null,
            "flex_flow": null,
            "grid_area": null,
            "grid_auto_columns": null,
            "grid_auto_flow": null,
            "grid_auto_rows": null,
            "grid_column": null,
            "grid_gap": null,
            "grid_row": null,
            "grid_template_areas": null,
            "grid_template_columns": null,
            "grid_template_rows": null,
            "height": null,
            "justify_content": null,
            "justify_items": null,
            "left": null,
            "margin": null,
            "max_height": null,
            "max_width": null,
            "min_height": null,
            "min_width": null,
            "object_fit": null,
            "object_position": null,
            "order": null,
            "overflow": null,
            "overflow_x": null,
            "overflow_y": null,
            "padding": null,
            "right": null,
            "top": null,
            "visibility": null,
            "width": null
          }
        },
        "708b9686526d4c66ace87a82817c7aac": {
          "model_module": "@jupyter-widgets/controls",
          "model_name": "DescriptionStyleModel",
          "model_module_version": "1.5.0",
          "state": {
            "_model_module": "@jupyter-widgets/controls",
            "_model_module_version": "1.5.0",
            "_model_name": "DescriptionStyleModel",
            "_view_count": null,
            "_view_module": "@jupyter-widgets/base",
            "_view_module_version": "1.2.0",
            "_view_name": "StyleView",
            "description_width": ""
          }
        },
        "f8811584ab744894aad0685b61683b4b": {
          "model_module": "@jupyter-widgets/base",
          "model_name": "LayoutModel",
          "model_module_version": "1.2.0",
          "state": {
            "_model_module": "@jupyter-widgets/base",
            "_model_module_version": "1.2.0",
            "_model_name": "LayoutModel",
            "_view_count": null,
            "_view_module": "@jupyter-widgets/base",
            "_view_module_version": "1.2.0",
            "_view_name": "LayoutView",
            "align_content": null,
            "align_items": null,
            "align_self": null,
            "border": null,
            "bottom": null,
            "display": null,
            "flex": null,
            "flex_flow": null,
            "grid_area": null,
            "grid_auto_columns": null,
            "grid_auto_flow": null,
            "grid_auto_rows": null,
            "grid_column": null,
            "grid_gap": null,
            "grid_row": null,
            "grid_template_areas": null,
            "grid_template_columns": null,
            "grid_template_rows": null,
            "height": null,
            "justify_content": null,
            "justify_items": null,
            "left": null,
            "margin": null,
            "max_height": null,
            "max_width": null,
            "min_height": null,
            "min_width": null,
            "object_fit": null,
            "object_position": null,
            "order": null,
            "overflow": null,
            "overflow_x": null,
            "overflow_y": null,
            "padding": null,
            "right": null,
            "top": null,
            "visibility": null,
            "width": "20px"
          }
        },
        "bb60f42d18c64d41816ba7d387bc3c08": {
          "model_module": "@jupyter-widgets/controls",
          "model_name": "ProgressStyleModel",
          "model_module_version": "1.5.0",
          "state": {
            "_model_module": "@jupyter-widgets/controls",
            "_model_module_version": "1.5.0",
            "_model_name": "ProgressStyleModel",
            "_view_count": null,
            "_view_module": "@jupyter-widgets/base",
            "_view_module_version": "1.2.0",
            "_view_name": "StyleView",
            "bar_color": null,
            "description_width": ""
          }
        },
        "946e45009a1340bf82478cfcae086845": {
          "model_module": "@jupyter-widgets/base",
          "model_name": "LayoutModel",
          "model_module_version": "1.2.0",
          "state": {
            "_model_module": "@jupyter-widgets/base",
            "_model_module_version": "1.2.0",
            "_model_name": "LayoutModel",
            "_view_count": null,
            "_view_module": "@jupyter-widgets/base",
            "_view_module_version": "1.2.0",
            "_view_name": "LayoutView",
            "align_content": null,
            "align_items": null,
            "align_self": null,
            "border": null,
            "bottom": null,
            "display": null,
            "flex": null,
            "flex_flow": null,
            "grid_area": null,
            "grid_auto_columns": null,
            "grid_auto_flow": null,
            "grid_auto_rows": null,
            "grid_column": null,
            "grid_gap": null,
            "grid_row": null,
            "grid_template_areas": null,
            "grid_template_columns": null,
            "grid_template_rows": null,
            "height": null,
            "justify_content": null,
            "justify_items": null,
            "left": null,
            "margin": null,
            "max_height": null,
            "max_width": null,
            "min_height": null,
            "min_width": null,
            "object_fit": null,
            "object_position": null,
            "order": null,
            "overflow": null,
            "overflow_x": null,
            "overflow_y": null,
            "padding": null,
            "right": null,
            "top": null,
            "visibility": null,
            "width": null
          }
        },
        "a1b08511b0d049f7abd6e25cb3fa128a": {
          "model_module": "@jupyter-widgets/controls",
          "model_name": "DescriptionStyleModel",
          "model_module_version": "1.5.0",
          "state": {
            "_model_module": "@jupyter-widgets/controls",
            "_model_module_version": "1.5.0",
            "_model_name": "DescriptionStyleModel",
            "_view_count": null,
            "_view_module": "@jupyter-widgets/base",
            "_view_module_version": "1.2.0",
            "_view_name": "StyleView",
            "description_width": ""
          }
        },
        "6d2c0ad5d5de4b748732c21794193667": {
          "model_module": "@jupyter-widgets/controls",
          "model_name": "HBoxModel",
          "model_module_version": "1.5.0",
          "state": {
            "_dom_classes": [],
            "_model_module": "@jupyter-widgets/controls",
            "_model_module_version": "1.5.0",
            "_model_name": "HBoxModel",
            "_view_count": null,
            "_view_module": "@jupyter-widgets/controls",
            "_view_module_version": "1.5.0",
            "_view_name": "HBoxView",
            "box_style": "",
            "children": [
              "IPY_MODEL_54db9e6b38df4fb49db484de135a81aa",
              "IPY_MODEL_bc13766f477845a6a1ea07aba1d232bd",
              "IPY_MODEL_1afb27fc0d2941f9a58a2bda1a9b0e22"
            ],
            "layout": "IPY_MODEL_5dbd55fd224a4f5597d4d25c50a56282"
          }
        },
        "54db9e6b38df4fb49db484de135a81aa": {
          "model_module": "@jupyter-widgets/controls",
          "model_name": "HTMLModel",
          "model_module_version": "1.5.0",
          "state": {
            "_dom_classes": [],
            "_model_module": "@jupyter-widgets/controls",
            "_model_module_version": "1.5.0",
            "_model_name": "HTMLModel",
            "_view_count": null,
            "_view_module": "@jupyter-widgets/controls",
            "_view_module_version": "1.5.0",
            "_view_name": "HTMLView",
            "description": "",
            "description_tooltip": null,
            "layout": "IPY_MODEL_a5162ba99cfe4d7e91734459c22f40b4",
            "placeholder": "​",
            "style": "IPY_MODEL_d18f392a5b6a4dafa0d6854bbb76f2f8",
            "value": "100%"
          }
        },
        "bc13766f477845a6a1ea07aba1d232bd": {
          "model_module": "@jupyter-widgets/controls",
          "model_name": "FloatProgressModel",
          "model_module_version": "1.5.0",
          "state": {
            "_dom_classes": [],
            "_model_module": "@jupyter-widgets/controls",
            "_model_module_version": "1.5.0",
            "_model_name": "FloatProgressModel",
            "_view_count": null,
            "_view_module": "@jupyter-widgets/controls",
            "_view_module_version": "1.5.0",
            "_view_name": "ProgressView",
            "bar_style": "danger",
            "description": "",
            "description_tooltip": null,
            "layout": "IPY_MODEL_6b524839bd6842088482513c5a0aad8a",
            "max": 23262,
            "min": 0,
            "orientation": "horizontal",
            "style": "IPY_MODEL_df88ad1d55684e80aa7455ccb9f2ccba",
            "value": 23261
          }
        },
        "1afb27fc0d2941f9a58a2bda1a9b0e22": {
          "model_module": "@jupyter-widgets/controls",
          "model_name": "HTMLModel",
          "model_module_version": "1.5.0",
          "state": {
            "_dom_classes": [],
            "_model_module": "@jupyter-widgets/controls",
            "_model_module_version": "1.5.0",
            "_model_name": "HTMLModel",
            "_view_count": null,
            "_view_module": "@jupyter-widgets/controls",
            "_view_module_version": "1.5.0",
            "_view_name": "HTMLView",
            "description": "",
            "description_tooltip": null,
            "layout": "IPY_MODEL_862f8f26c78a45558a852087588b96c6",
            "placeholder": "​",
            "style": "IPY_MODEL_2ede2bfbca914c60a80d698e63b5f012",
            "value": " 23261/23262 [00:02&lt;00:00, 7751.72 examples/s]"
          }
        },
        "5dbd55fd224a4f5597d4d25c50a56282": {
          "model_module": "@jupyter-widgets/base",
          "model_name": "LayoutModel",
          "model_module_version": "1.2.0",
          "state": {
            "_model_module": "@jupyter-widgets/base",
            "_model_module_version": "1.2.0",
            "_model_name": "LayoutModel",
            "_view_count": null,
            "_view_module": "@jupyter-widgets/base",
            "_view_module_version": "1.2.0",
            "_view_name": "LayoutView",
            "align_content": null,
            "align_items": null,
            "align_self": null,
            "border": null,
            "bottom": null,
            "display": null,
            "flex": null,
            "flex_flow": null,
            "grid_area": null,
            "grid_auto_columns": null,
            "grid_auto_flow": null,
            "grid_auto_rows": null,
            "grid_column": null,
            "grid_gap": null,
            "grid_row": null,
            "grid_template_areas": null,
            "grid_template_columns": null,
            "grid_template_rows": null,
            "height": null,
            "justify_content": null,
            "justify_items": null,
            "left": null,
            "margin": null,
            "max_height": null,
            "max_width": null,
            "min_height": null,
            "min_width": null,
            "object_fit": null,
            "object_position": null,
            "order": null,
            "overflow": null,
            "overflow_x": null,
            "overflow_y": null,
            "padding": null,
            "right": null,
            "top": null,
            "visibility": null,
            "width": null
          }
        },
        "a5162ba99cfe4d7e91734459c22f40b4": {
          "model_module": "@jupyter-widgets/base",
          "model_name": "LayoutModel",
          "model_module_version": "1.2.0",
          "state": {
            "_model_module": "@jupyter-widgets/base",
            "_model_module_version": "1.2.0",
            "_model_name": "LayoutModel",
            "_view_count": null,
            "_view_module": "@jupyter-widgets/base",
            "_view_module_version": "1.2.0",
            "_view_name": "LayoutView",
            "align_content": null,
            "align_items": null,
            "align_self": null,
            "border": null,
            "bottom": null,
            "display": null,
            "flex": null,
            "flex_flow": null,
            "grid_area": null,
            "grid_auto_columns": null,
            "grid_auto_flow": null,
            "grid_auto_rows": null,
            "grid_column": null,
            "grid_gap": null,
            "grid_row": null,
            "grid_template_areas": null,
            "grid_template_columns": null,
            "grid_template_rows": null,
            "height": null,
            "justify_content": null,
            "justify_items": null,
            "left": null,
            "margin": null,
            "max_height": null,
            "max_width": null,
            "min_height": null,
            "min_width": null,
            "object_fit": null,
            "object_position": null,
            "order": null,
            "overflow": null,
            "overflow_x": null,
            "overflow_y": null,
            "padding": null,
            "right": null,
            "top": null,
            "visibility": null,
            "width": null
          }
        },
        "d18f392a5b6a4dafa0d6854bbb76f2f8": {
          "model_module": "@jupyter-widgets/controls",
          "model_name": "DescriptionStyleModel",
          "model_module_version": "1.5.0",
          "state": {
            "_model_module": "@jupyter-widgets/controls",
            "_model_module_version": "1.5.0",
            "_model_name": "DescriptionStyleModel",
            "_view_count": null,
            "_view_module": "@jupyter-widgets/base",
            "_view_module_version": "1.2.0",
            "_view_name": "StyleView",
            "description_width": ""
          }
        },
        "6b524839bd6842088482513c5a0aad8a": {
          "model_module": "@jupyter-widgets/base",
          "model_name": "LayoutModel",
          "model_module_version": "1.2.0",
          "state": {
            "_model_module": "@jupyter-widgets/base",
            "_model_module_version": "1.2.0",
            "_model_name": "LayoutModel",
            "_view_count": null,
            "_view_module": "@jupyter-widgets/base",
            "_view_module_version": "1.2.0",
            "_view_name": "LayoutView",
            "align_content": null,
            "align_items": null,
            "align_self": null,
            "border": null,
            "bottom": null,
            "display": null,
            "flex": null,
            "flex_flow": null,
            "grid_area": null,
            "grid_auto_columns": null,
            "grid_auto_flow": null,
            "grid_auto_rows": null,
            "grid_column": null,
            "grid_gap": null,
            "grid_row": null,
            "grid_template_areas": null,
            "grid_template_columns": null,
            "grid_template_rows": null,
            "height": null,
            "justify_content": null,
            "justify_items": null,
            "left": null,
            "margin": null,
            "max_height": null,
            "max_width": null,
            "min_height": null,
            "min_width": null,
            "object_fit": null,
            "object_position": null,
            "order": null,
            "overflow": null,
            "overflow_x": null,
            "overflow_y": null,
            "padding": null,
            "right": null,
            "top": null,
            "visibility": null,
            "width": null
          }
        },
        "df88ad1d55684e80aa7455ccb9f2ccba": {
          "model_module": "@jupyter-widgets/controls",
          "model_name": "ProgressStyleModel",
          "model_module_version": "1.5.0",
          "state": {
            "_model_module": "@jupyter-widgets/controls",
            "_model_module_version": "1.5.0",
            "_model_name": "ProgressStyleModel",
            "_view_count": null,
            "_view_module": "@jupyter-widgets/base",
            "_view_module_version": "1.2.0",
            "_view_name": "StyleView",
            "bar_color": null,
            "description_width": ""
          }
        },
        "862f8f26c78a45558a852087588b96c6": {
          "model_module": "@jupyter-widgets/base",
          "model_name": "LayoutModel",
          "model_module_version": "1.2.0",
          "state": {
            "_model_module": "@jupyter-widgets/base",
            "_model_module_version": "1.2.0",
            "_model_name": "LayoutModel",
            "_view_count": null,
            "_view_module": "@jupyter-widgets/base",
            "_view_module_version": "1.2.0",
            "_view_name": "LayoutView",
            "align_content": null,
            "align_items": null,
            "align_self": null,
            "border": null,
            "bottom": null,
            "display": null,
            "flex": null,
            "flex_flow": null,
            "grid_area": null,
            "grid_auto_columns": null,
            "grid_auto_flow": null,
            "grid_auto_rows": null,
            "grid_column": null,
            "grid_gap": null,
            "grid_row": null,
            "grid_template_areas": null,
            "grid_template_columns": null,
            "grid_template_rows": null,
            "height": null,
            "justify_content": null,
            "justify_items": null,
            "left": null,
            "margin": null,
            "max_height": null,
            "max_width": null,
            "min_height": null,
            "min_width": null,
            "object_fit": null,
            "object_position": null,
            "order": null,
            "overflow": null,
            "overflow_x": null,
            "overflow_y": null,
            "padding": null,
            "right": null,
            "top": null,
            "visibility": null,
            "width": null
          }
        },
        "2ede2bfbca914c60a80d698e63b5f012": {
          "model_module": "@jupyter-widgets/controls",
          "model_name": "DescriptionStyleModel",
          "model_module_version": "1.5.0",
          "state": {
            "_model_module": "@jupyter-widgets/controls",
            "_model_module_version": "1.5.0",
            "_model_name": "DescriptionStyleModel",
            "_view_count": null,
            "_view_module": "@jupyter-widgets/base",
            "_view_module_version": "1.2.0",
            "_view_name": "StyleView",
            "description_width": ""
          }
        }
      }
    }
  },
  "nbformat": 4,
  "nbformat_minor": 0
}